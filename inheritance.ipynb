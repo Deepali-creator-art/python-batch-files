{
 "cells": [
  {
   "cell_type": "markdown",
   "metadata": {},
   "source": [
    "\n",
    " We saw an example above.\n",
    "\n",
    "The super() function is a built-in function that returns the objects that represent the parent class. It allows to access the parent class’s methods and attributes in the child class.\n",
    "\n",
    "Hierarchical inheritance More than one derived class can be created from a single base.\n",
    "Hybrid inheritance: This form combines more than one form of inheritance. Basically, it is a blend of more than one type of inheritance."
   ]
  },
  {
   "cell_type": "markdown",
   "metadata": {
    "vscode": {
     "languageId": "plaintext"
    }
   },
   "source": [
    "Inheritance allows us to define a class that inherits all the methods and properties from another class.\n",
    "\n",
    "Parent class is the class being inherited from, also called base class.\n",
    "\n",
    "Child class is the class that inherits from another class, also called derived class."
   ]
  },
  {
   "cell_type": "markdown",
   "metadata": {},
   "source": [
    "Types of inheritance:\n",
    "1.Single inheritance: When a child class inherits from only one parent class, it is called single inheritance."
   ]
  },
  {
   "cell_type": "code",
   "execution_count": 1,
   "metadata": {},
   "outputs": [
    {
     "name": "stdout",
     "output_type": "stream",
     "text": [
      "Value of x is 12345\n",
      "Value of y is 67890\n",
      "Addition of x and y is 80235\n"
     ]
    }
   ],
   "source": [
    "#base class\n",
    "class numbers:\n",
    "    x=12345\n",
    "    y=67890\n",
    "    def show(self):\n",
    "        print(\"Value of x is\",self.x)\n",
    "        print(\"Value of y is\",self.y)\n",
    "#derived class\n",
    "class operation(numbers):\n",
    "    def addition(self):\n",
    "        print(\"Addition of x and y is\",self.x+self.y)\n",
    "obj=operation() #derived class object creation\n",
    "obj.show()     #base class method call by using derived class object\n",
    "obj.addition() #derived class method call by using derived class object      "
   ]
  },
  {
   "cell_type": "markdown",
   "metadata": {},
   "source": [
    "2.Multilevel inheritance: When we have a child and grandchild relationship. This means that a child class will inherit from its parent class, which in turn is inheriting from its parent class."
   ]
  },
  {
   "cell_type": "code",
   "execution_count": 3,
   "metadata": {},
   "outputs": [
    {
     "name": "stdout",
     "output_type": "stream",
     "text": [
      "This is a base class\n",
      "This is a derived class 1\n",
      "This is a derived class 2\n",
      "Value of x is python\n",
      "Value of y is programming\n"
     ]
    }
   ],
   "source": [
    "#base class\n",
    "class A:\n",
    "    def __init__(self):\n",
    "        print(\"This is a base class\")\n",
    "#derived class 1\n",
    "class B(A):\n",
    "    x='python'\n",
    "    def show(self):\n",
    "        print(\"This is a derived class 1\")\n",
    "#derived class 2\n",
    "class C(B):\n",
    "    y='programming'\n",
    "    def display(self):\n",
    "        print(\"This is a derived class 2\")\n",
    "        print(\"Value of x is\",self.x)\n",
    "        print(\"Value of y is\",self.y)\n",
    "c1=C() #object creation + base class constructor called\n",
    "c1.show() #method call of derived class 1 =>B\n",
    "c1.display() #method call of derived class 2=>C"
   ]
  },
  {
   "cell_type": "markdown",
   "metadata": {},
   "source": [
    "3.Multiple inheritances: When a child class inherits from multiple parent classes, it is called multiple inheritances. "
   ]
  },
  {
   "cell_type": "code",
   "execution_count": 4,
   "metadata": {},
   "outputs": [
    {
     "name": "stdout",
     "output_type": "stream",
     "text": [
      "This is a base class 1\n",
      "This is a base class 2\n",
      "This is a derived class\n"
     ]
    }
   ],
   "source": [
    "class A:\n",
    "    def show(self):\n",
    "        print(\"This is a base class 1\")\n",
    "class B:\n",
    "    def display(self):\n",
    "        print(\"This is a base class 2\")\n",
    "class C(A,B):\n",
    "    def info(self):\n",
    "        print(\"This is a derived class\")\n",
    "#object creation of derived class\n",
    "c1=C()\n",
    "c1.show()  #method call of base class A\n",
    "c1.display() #method call of base class B\n",
    "c1.info() #method call of derived call C\n",
    "        "
   ]
  },
  {
   "cell_type": "code",
   "execution_count": 4,
   "metadata": {},
   "outputs": [
    {
     "name": "stdout",
     "output_type": "stream",
     "text": [
      "Area of circle is 38.465\n",
      "Area of square is 25\n"
     ]
    }
   ],
   "source": [
    "#base class definition\n",
    "class Shape:\n",
    "    def area(self):\n",
    "        pass \n",
    "#derived class 1 definiion\n",
    "class circle(Shape):\n",
    "    def __init__(self,radius):\n",
    "        self.r=radius #convert function parameter into class member\n",
    "    def area(self):\n",
    "        return self.r*self.r*3.14\n",
    "#derived class 2 definition\n",
    "class square(Shape):\n",
    "    def __init__(self,side):\n",
    "        self.side=side #convert function parameter into class member\n",
    "    def area(self):\n",
    "        return self.side*self.side\n",
    "#create object of circle class\n",
    "c1=circle(3.5) #constructor called with parameter value\n",
    "circle_area=c1.area()\n",
    "print(\"Area of circle is\",circle_area)\n",
    "#create object of square class\n",
    "s1=square(5) #constructor called with parameter value\n",
    "square_area=s1.area()\n",
    "print(\"Area of square is\",square_area)"
   ]
  },
  {
   "cell_type": "code",
   "execution_count": 7,
   "metadata": {},
   "outputs": [
    {
     "name": "stdout",
     "output_type": "stream",
     "text": [
      "This is derived class method\n"
     ]
    }
   ],
   "source": [
    "class A:\n",
    "    def show(self):\n",
    "        pass\n",
    "class B(A):\n",
    "    def show1(self):\n",
    "        print(\"This is derived class method\")\n",
    "b1=B()\n",
    "b1.show1()"
   ]
  },
  {
   "cell_type": "code",
   "execution_count": 2,
   "metadata": {},
   "outputs": [
    {
     "name": "stdout",
     "output_type": "stream",
     "text": [
      "Payment method choice\n",
      "      1.googlepay\n",
      "      2.phonepe\n",
      "      3.paytm\n",
      "Please try again\n",
      "Please try again\n",
      "Payment 500 done by paytm\n"
     ]
    }
   ],
   "source": [
    "from abc import abstractmethod,ABC\n",
    "#base class definition\n",
    "class Bankserver(ABC):\n",
    "    @abstractmethod\n",
    "    def payment(self):\n",
    "        pass\n",
    "#derived class definition\n",
    "class googlepay(Bankserver):\n",
    "    def payment(self,amount):\n",
    "        print(f\"Payment {amount} done by google pay\")\n",
    "#derived class definition\n",
    "class phonepe(Bankserver):\n",
    "    def payment(self,amount):\n",
    "        print(f\"Payment {amount} done by phonepe\")\n",
    "#derived class definition\n",
    "class paytm(Bankserver):\n",
    "    def payment(self,amount):\n",
    "        print(f\"Payment {amount} done by paytm\")\n",
    "print(\"\"\"Payment method choice\n",
    "      1.googlepay\n",
    "      2.phonepe\n",
    "      3.paytm\"\"\")\n",
    "while True:\n",
    "    ch=input(\"Enter the choice\")\n",
    "    if(ch=='1'):\n",
    "        #create object of derived class  \n",
    "        g1=googlepay()\n",
    "        amt=int(input(\"Enter the amount\"))\n",
    "        g1.payment(amt)\n",
    "        break\n",
    "    elif(ch=='2'):\n",
    "        #create object of derived class  \n",
    "        p1=phonepe()\n",
    "        amt=int(input(\"Enter the amount\"))\n",
    "        p1.payment(amt)\n",
    "        break\n",
    "    elif(ch=='3'):\n",
    "        #create object of derived class  \n",
    "        p1=paytm()\n",
    "        amt=int(input(\"Enter the amount\"))\n",
    "        p1.payment(amt)\n",
    "        break\n",
    "    else:\n",
    "        print(\"Please try again\")"
   ]
  },
  {
   "cell_type": "code",
   "execution_count": 15,
   "metadata": {},
   "outputs": [
    {
     "name": "stdout",
     "output_type": "stream",
     "text": [
      "Swapnil\n",
      "BE(Mech)\n",
      "Employee name Swapnil\n",
      "Employee education BE(Mech)\n",
      "Employee salary 75000\n",
      "Department name Python\n"
     ]
    }
   ],
   "source": [
    "#base class\n",
    "class HR:\n",
    "    employee_name='Swapnil' #public member\n",
    "    _employee_education='BE(Mech)' #protected member\n",
    "    __employee_salary=75000 #private member\n",
    "    def show(self):\n",
    "        print(\"Employee name\",self.employee_name)\n",
    "        print(\"Employee education\",self._employee_education)\n",
    "        print(\"Employee salary\",self.__employee_salary)\n",
    "#derived class defintion\n",
    "class department(HR):\n",
    "    department_name='Python'\n",
    "    def display(self):\n",
    "        print(\"Department name\",self.department_name)       \n",
    "h1=HR() #creation of base class object\n",
    "#h1.show() #base class method called using base class object\n",
    "print(h1.employee_name)\n",
    "print(h1._employee_education)\n",
    "#print(h1.__employee_salary)\n",
    "#creation of derived class object\n",
    "d1=department()\n",
    "d1.show()   #base class method called using derived class object\n",
    "d1.display()  #derived class method called using derived class object\n"
   ]
  },
  {
   "cell_type": "code",
   "execution_count": null,
   "metadata": {},
   "outputs": [],
   "source": []
  }
 ],
 "metadata": {
  "kernelspec": {
   "display_name": "Python 3",
   "language": "python",
   "name": "python3"
  },
  "language_info": {
   "codemirror_mode": {
    "name": "ipython",
    "version": 3
   },
   "file_extension": ".py",
   "mimetype": "text/x-python",
   "name": "python",
   "nbconvert_exporter": "python",
   "pygments_lexer": "ipython3",
   "version": "3.12.4"
  }
 },
 "nbformat": 4,
 "nbformat_minor": 2
}
