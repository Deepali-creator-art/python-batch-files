{
 "cells": [
  {
   "cell_type": "code",
   "execution_count": 2,
   "metadata": {},
   "outputs": [
    {
     "name": "stdout",
     "output_type": "stream",
     "text": [
      "Hello\n",
      "Hello\n",
      "Hello\n",
      "Hello\n",
      "Hello\n",
      "Bye\n",
      "Bye\n",
      "Bye\n",
      "Bye\n",
      "Bye\n"
     ]
    }
   ],
   "source": [
    "def fun1():\n",
    "    for i in range(1,6):\n",
    "        print(\"Hello\")\n",
    "def fun2():\n",
    "    for i in range(1,6):\n",
    "        print(\"Bye\")\n",
    "fun1() #function called\n",
    "fun2() #function called"
   ]
  },
  {
   "cell_type": "code",
   "execution_count": 21,
   "metadata": {},
   "outputs": [
    {
     "name": "stdout",
     "output_type": "stream",
     "text": [
      "Thread name MainThread\n",
      "Thread name MainThread\n",
      "Hello\n",
      "Hello\n",
      "Hello\n",
      "Hello\n",
      "Hello\n",
      "Thread number Thread-44 (fun1)\n",
      "Thread name MainThread\n"
     ]
    }
   ],
   "source": [
    "#multithreading :parallel execution(multitasking)\n",
    "from threading import *\n",
    "print(\"Thread name\",current_thread().name)\n",
    "def fun1():\n",
    "    for i in range(1,6):\n",
    "        print(\"Hello\")\n",
    "    print(\"Thread number\",current_thread().name)     \n",
    "#function convert into thread\n",
    "print(\"Thread name\",current_thread().name)\n",
    "t1=Thread(target=fun1)\n",
    "t1.start()\n",
    "print(\"Thread name\",current_thread().name)\n"
   ]
  },
  {
   "cell_type": "code",
   "execution_count": 22,
   "metadata": {},
   "outputs": [
    {
     "name": "stdout",
     "output_type": "stream",
     "text": [
      "This is sample function called\n"
     ]
    }
   ],
   "source": [
    "from threading import *\n",
    "def sample(x):\n",
    "    print(\"This is sample function called\")\n",
    "#convert function into thread\n",
    "t1=Thread(target=sample,args=(5,))\n",
    "t1.start()\n"
   ]
  },
  {
   "cell_type": "code",
   "execution_count": 28,
   "metadata": {},
   "outputs": [
    {
     "name": "stdout",
     "output_type": "stream",
     "text": [
      "Square of a number 1\n",
      "Square of a number 4\n",
      "Square of a number 9\n",
      "Square of a number 16\n",
      "Square of a number 25\n",
      "Cube of a number 1\n",
      "Cube of a number 8\n",
      "Cube of a number 27\n",
      "Cube of a number 64\n",
      "Cube of a number 125\n",
      "Total time execution for function 11.008715867996216\n"
     ]
    }
   ],
   "source": [
    "#Write a function to calculate square of number and cube of number from a given sequence 1 to 5.\n",
    "import time\n",
    "def square(x):\n",
    "    time.sleep(1)\n",
    "    for i in range(1,x):\n",
    "        time.sleep(1)\n",
    "        print(\"Square of a number\",i*i)\n",
    "def cube(x):\n",
    "    for i in range(1,x):\n",
    "        time.sleep(1)\n",
    "        print(\"Cube of a number\",i*i*i)\n",
    "start_time=time.time()\n",
    "square(6)\n",
    "cube(6)\n",
    "stop_time=time.time()\n",
    "print(\"Total time execution for function\",stop_time-start_time)"
   ]
  },
  {
   "cell_type": "code",
   "execution_count": 30,
   "metadata": {},
   "outputs": [
    {
     "name": "stdout",
     "output_type": "stream",
     "text": [
      "Cube of a number 1\n",
      "Square of a number 1\n",
      "Cube of a number 8\n",
      "Square of a number 4\n",
      "Cube of a number 27\n",
      "Square of a number 9\n",
      "Cube of a number 64\n",
      "Square of a number 16\n",
      "Cube of a number 125\n",
      "Square of a number 25\n",
      "Total time execution for function 6.005924701690674\n"
     ]
    }
   ],
   "source": [
    "import time\n",
    "from threading import *\n",
    "def square(x):\n",
    "    time.sleep(1)\n",
    "    for i in range(1,x):\n",
    "        time.sleep(1)\n",
    "        print(\"Square of a number\",i*i)\n",
    "def cube(x):\n",
    "    for i in range(1,x):\n",
    "        time.sleep(1)\n",
    "        print(\"Cube of a number\",i*i*i)\n",
    "#convert function into thread\n",
    "t1=Thread(target=square,args=(6,))\n",
    "t2=Thread(target=cube,args=(6,))\n",
    "start_time=time.time()\n",
    "t1.start()\n",
    "t2.start()\n",
    "t1.join()\n",
    "t2.join()\n",
    "stop_time=time.time()\n",
    "print(\"Total time execution for function\",stop_time-start_time)"
   ]
  },
  {
   "cell_type": "code",
   "execution_count": 32,
   "metadata": {},
   "outputs": [
    {
     "name": "stdout",
     "output_type": "stream",
     "text": [
      "Hello\n"
     ]
    }
   ],
   "source": [
    "#class based thread\n",
    "from threading import *\n",
    "class A:\n",
    "    def fun1(self):\n",
    "        print(\"Hello\")\n",
    "a1=A()\n",
    "t1=Thread(target=a1.fun1)\n",
    "t1.start()"
   ]
  },
  {
   "cell_type": "code",
   "execution_count": null,
   "metadata": {},
   "outputs": [],
   "source": []
  }
 ],
 "metadata": {
  "kernelspec": {
   "display_name": "Python 3",
   "language": "python",
   "name": "python3"
  },
  "language_info": {
   "codemirror_mode": {
    "name": "ipython",
    "version": 3
   },
   "file_extension": ".py",
   "mimetype": "text/x-python",
   "name": "python",
   "nbconvert_exporter": "python",
   "pygments_lexer": "ipython3",
   "version": "3.12.4"
  }
 },
 "nbformat": 4,
 "nbformat_minor": 2
}
