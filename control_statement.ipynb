{
 "cells": [
  {
   "cell_type": "code",
   "execution_count": 3,
   "metadata": {},
   "outputs": [
    {
     "name": "stdout",
     "output_type": "stream",
     "text": [
      "Sad Days\n"
     ]
    }
   ],
   "source": [
    "x=257\n",
    "if(x<250):\n",
    "    print(\"Happy Days\")\n",
    "else:\n",
    "    print(\"Sad Days\")\n",
    "    "
   ]
  },
  {
   "cell_type": "code",
   "execution_count": 4,
   "metadata": {},
   "outputs": [
    {
     "name": "stdout",
     "output_type": "stream",
     "text": [
      "Congrats you are eligible for driving licence\n"
     ]
    }
   ],
   "source": [
    "#To check user is eliglible for driving licence or not.\n",
    "age=int(input(\"Enter the age\"))\n",
    "if(age>=18):\n",
    "    print(\"Congrats you are eligible for driving licence\")\n",
    "else:\n",
    "    print(\"Sorry!!! Better luck next time\")"
   ]
  },
  {
   "cell_type": "code",
   "execution_count": 14,
   "metadata": {},
   "outputs": [
    {
     "name": "stdout",
     "output_type": "stream",
     "text": [
      "['d', 's', 't', 'u', 'y']\n",
      "['d', 's', 't', 'u', 'y']\n",
      "Given strings study and dusty are anagram strings\n"
     ]
    }
   ],
   "source": [
    "#To check the given strings are anagram strings or not.\n",
    "str1='study'\n",
    "str2='dusty'\n",
    "s1=sorted(str1)\n",
    "s2=sorted(str2)\n",
    "print(s1)\n",
    "print(s2)\n",
    "if(s1==s2):\n",
    "    print(f\"Given strings {str1} and {str2} are anagram strings\")\n",
    "else:\n",
    "    print(f\"Given strings {str1} and {str2} are not anagram strings\")\n",
    "    "
   ]
  },
  {
   "cell_type": "code",
   "execution_count": 16,
   "metadata": {},
   "outputs": [
    {
     "name": "stdout",
     "output_type": "stream",
     "text": [
      "Given string rajesh and hsejar are not palidrome\n"
     ]
    }
   ],
   "source": [
    "#To check the given string is palidrome string or not.\n",
    "original_string='nayan'\n",
    "reverse_string=original_string[::-1]\n",
    "if(original_string==reverse_string):\n",
    "    print(f\"Given string {original_string} and {reverse_string} are palidrome\")\n",
    "else:\n",
    "    print(f\"Given string {original_string} and {reverse_string} are not palidrome\")\n",
    "    \n"
   ]
  },
  {
   "cell_type": "code",
   "execution_count": 6,
   "metadata": {},
   "outputs": [
    {
     "name": "stdout",
     "output_type": "stream",
     "text": [
      "-78 is negative number\n"
     ]
    }
   ],
   "source": [
    "#To check the given number is positive or negative.\n",
    "number=int(input(\"Enter the number\"))\n",
    "if(number>0):\n",
    "    print(f\"{number} is positive number\")\n",
    "elif(number==0):\n",
    "    print(f\"{number} is natural number\")\n",
    "else:\n",
    "    print(f\"{number} is negative number\")\n",
    "    "
   ]
  },
  {
   "cell_type": "code",
   "execution_count": 11,
   "metadata": {},
   "outputs": [
    {
     "name": "stdout",
     "output_type": "stream",
     "text": [
      "Enter the language selection\n",
      "      1.Marathi\n",
      "      2.Hindi\n",
      "      3.English\n",
      "Please enter the valid option\n"
     ]
    }
   ],
   "source": [
    "print('''Enter the language selection\n",
    "      1.Marathi\n",
    "      2.Hindi\n",
    "      3.English''')\n",
    "choice=input(\"Enter the choice\")#string data type\n",
    "if(choice=='1'):\n",
    "    print(\"Welcome to marathi section\")\n",
    "elif(choice=='2'):\n",
    "    print(\"Welcome to hindi section\")\n",
    "elif(choice=='3'):\n",
    "    print(\"Welcome to english section\")\n",
    "else:\n",
    "    print(\"Please enter the valid option\")\n",
    "    \n",
    "    "
   ]
  },
  {
   "cell_type": "code",
   "execution_count": 13,
   "metadata": {},
   "outputs": [
    {
     "name": "stdout",
     "output_type": "stream",
     "text": [
      "Mobile data 4 gb per day ,30 days and 2 subscriptions are free\n"
     ]
    }
   ],
   "source": [
    "mobile_recharge_amount=[239,269,299,350]\n",
    "amount=int(input(\"Enter the mobile recharge amount\"))\n",
    "if(amount==239):\n",
    "    print(\"Mobile data 1.5gb per day ,28 days and 2 subscriptions are free\")\n",
    "elif(amount==269):\n",
    "    print(\"Mobile data 1.5gb per day ,28 days and 4 subscriptions are free\")\n",
    "elif(amount==299):\n",
    "    print(\"Mobile data 2 gb per day ,30 days and 4 subscriptions are free\")\n",
    "elif(amount==350):    \n",
    "    print(\"Mobile data 4 gb per day ,30 days and 2 subscriptions are free\")\n",
    "else:\n",
    "    print(\"Please re-enter the amount\")\n",
    "    "
   ]
  },
  {
   "cell_type": "code",
   "execution_count": 26,
   "metadata": {},
   "outputs": [
    {
     "name": "stdout",
     "output_type": "stream",
     "text": [
      "Purchase amount is 25000\n",
      "Please pay amount 20000.0\n",
      "Saving amount is 5000.0\n"
     ]
    }
   ],
   "source": [
    "purchase_amount=int(input(\"Enter the amount\"))\n",
    "print(\"Purchase amount is\",purchase_amount)\n",
    "discount=0\n",
    "if(purchase_amount>10000):\n",
    "    discount=purchase_amount*20/100   \n",
    "elif(purchase_amount>5000 and purchase_amount<=10000):\n",
    "    discount=purchase_amount*10/100\n",
    "elif(purchase_amount>1000 and purchase_amount<=5000):\n",
    "    discount=purchase_amount*5/100   \n",
    "else:\n",
    "    print(\"No discount\")\n",
    "final_amount=purchase_amount-discount\n",
    "print(\"Please pay amount\",final_amount)\n",
    "saving_amount=purchase_amount-final_amount\n",
    "print(\"Saving amount is\",saving_amount) \n",
    "\n",
    "    \n",
    "    "
   ]
  },
  {
   "cell_type": "markdown",
   "metadata": {},
   "source": [
    " Given an integer n perform the following conditional actions:\n",
    "•\tIf n is odd, print Happy\n",
    "•\tIf  n is even and in the inclusive range of  2 to 5 , print Not Happy\n",
    "•\tIf  n is even and in the inclusive range of 6 to 20 , print Happy\n",
    "•\tIf  n is even and greater than 20, print Not Happy\n"
   ]
  },
  {
   "cell_type": "code",
   "execution_count": 31,
   "metadata": {},
   "outputs": [
    {
     "name": "stdout",
     "output_type": "stream",
     "text": [
      "Number is 25\n",
      "Happy\n"
     ]
    }
   ],
   "source": [
    "n=int(input(\"Enter the number\"))\n",
    "print(\"Number is\",n)\n",
    "if(n%2==1): #odd number\n",
    "    print(\"Happy\")\n",
    "elif n in range(2,6): #2,3,4,5 only even numbers\n",
    "    print(\"Not happy\")\n",
    "elif n in range(6,21):#6,7,8....20 only even numbers\n",
    "    print(\"Happy\")\n",
    "else:\n",
    "    print(\"Not happy\")\n",
    "\n",
    "    "
   ]
  },
  {
   "cell_type": "code",
   "execution_count": 3,
   "metadata": {},
   "outputs": [
    {
     "name": "stdout",
     "output_type": "stream",
     "text": [
      "Happy\n",
      "11\n",
      "Hello\n",
      "Happy\n",
      "22\n",
      "Hello\n",
      "Happy\n",
      "33\n",
      "Hello\n",
      "Happy\n",
      "44\n",
      "Hello\n",
      "Happy\n",
      "55\n",
      "Hello\n"
     ]
    }
   ],
   "source": [
    "#for loop:=>list data type\n",
    "x=[11,22,33,44,55]\n",
    "for i in x:\n",
    "    print(\"Happy\")\n",
    "    print(i)\n",
    "print(\"Hello\")"
   ]
  },
  {
   "cell_type": "code",
   "execution_count": 4,
   "metadata": {},
   "outputs": [
    {
     "name": "stdout",
     "output_type": "stream",
     "text": [
      "Happy\n",
      "11\n",
      "Happy\n",
      "22\n",
      "Happy\n",
      "33\n",
      "Happy\n",
      "44\n",
      "Happy\n",
      "55\n",
      "Hello\n"
     ]
    }
   ],
   "source": [
    "#for loop:=>tuple data type\n",
    "x=(11,22,33,44,55)\n",
    "for i in x:\n",
    "    print(\"Happy\")\n",
    "    print(i)\n",
    "print(\"Hello\")"
   ]
  },
  {
   "cell_type": "code",
   "execution_count": 5,
   "metadata": {},
   "outputs": [
    {
     "name": "stdout",
     "output_type": "stream",
     "text": [
      "1 Hello\n",
      "2 Hello\n",
      "3 Hello\n",
      "4 Hello\n",
      "5 Hello\n",
      "6 Hello\n"
     ]
    }
   ],
   "source": [
    "y={1,2,3,3,4,5,5,6}\n",
    "for i in y:\n",
    "    print(i,\"Hello\")"
   ]
  },
  {
   "cell_type": "code",
   "execution_count": 6,
   "metadata": {},
   "outputs": [
    {
     "name": "stdout",
     "output_type": "stream",
     "text": [
      "0\n",
      "1\n",
      "2\n",
      "3\n",
      "4\n"
     ]
    }
   ],
   "source": [
    "#for loop=>range()\n",
    "for i in range(5):\n",
    "    print(i)"
   ]
  },
  {
   "cell_type": "code",
   "execution_count": 7,
   "metadata": {},
   "outputs": [
    {
     "name": "stdout",
     "output_type": "stream",
     "text": [
      "1\n",
      "2\n",
      "3\n",
      "4\n"
     ]
    }
   ],
   "source": [
    "#for loop =>dictionary data type\n",
    "d1={1:'One',2:'Two',3:'Three',4:'Four'}\n",
    "for i in d1:\n",
    "    print(i)"
   ]
  },
  {
   "cell_type": "code",
   "execution_count": 8,
   "metadata": {},
   "outputs": [
    {
     "name": "stdout",
     "output_type": "stream",
     "text": [
      "One\n",
      "Two\n",
      "Three\n",
      "Four\n"
     ]
    }
   ],
   "source": [
    "d1={1:'One',2:'Two',3:'Three',4:'Four'}\n",
    "for i in d1.values():\n",
    "    print(i)"
   ]
  },
  {
   "cell_type": "code",
   "execution_count": 9,
   "metadata": {},
   "outputs": [
    {
     "name": "stdout",
     "output_type": "stream",
     "text": [
      "a\n",
      "b\n"
     ]
    }
   ],
   "source": [
    "d2={'a':[1,2,3,4],'b':[4,5,6,7]}\n",
    "for i in d2:\n",
    "    print(i)"
   ]
  },
  {
   "cell_type": "code",
   "execution_count": 10,
   "metadata": {},
   "outputs": [
    {
     "name": "stdout",
     "output_type": "stream",
     "text": [
      "[1, 2, 3, 4]\n",
      "[4, 5, 6, 7]\n"
     ]
    }
   ],
   "source": [
    "d2={'a':[1,2,3,4],'b':[4,5,6,7]}\n",
    "for i in d2.values():\n",
    "    print(i)"
   ]
  },
  {
   "cell_type": "code",
   "execution_count": 11,
   "metadata": {},
   "outputs": [
    {
     "name": "stdout",
     "output_type": "stream",
     "text": [
      "[1, 2, 3, 4]\n",
      "[4, 5, 6, 7]\n"
     ]
    }
   ],
   "source": [
    "d2={'a':[1,2,3,4],'b':[4,5,6,7]}\n",
    "for i in d2:\n",
    "    print(d2[i])"
   ]
  },
  {
   "cell_type": "code",
   "execution_count": 12,
   "metadata": {},
   "outputs": [
    {
     "name": "stdout",
     "output_type": "stream",
     "text": [
      "('a', [1, 2, 3, 4])\n",
      "('b', [4, 5, 6, 7])\n"
     ]
    }
   ],
   "source": [
    "d2={'a':[1,2,3,4],'b':[4,5,6,7]}\n",
    "for i in d2.items():\n",
    "    print(i)"
   ]
  },
  {
   "cell_type": "code",
   "execution_count": 13,
   "metadata": {},
   "outputs": [
    {
     "name": "stdout",
     "output_type": "stream",
     "text": [
      "11\n",
      "12\n",
      "13\n",
      "14\n",
      "15\n",
      "16\n",
      "17\n",
      "18\n",
      "19\n",
      "20\n",
      "21\n",
      "22\n",
      "23\n",
      "24\n",
      "25\n",
      "26\n",
      "27\n",
      "28\n",
      "29\n",
      "30\n"
     ]
    }
   ],
   "source": [
    "#To display the numbers in ascending order from 11 to 30.\n",
    "for i in range(11,31):\n",
    "    print(i)"
   ]
  },
  {
   "cell_type": "code",
   "execution_count": 14,
   "metadata": {},
   "outputs": [
    {
     "name": "stdout",
     "output_type": "stream",
     "text": [
      "Odd numbers 11\n",
      "Odd numbers 13\n",
      "Odd numbers 15\n",
      "Odd numbers 17\n",
      "Odd numbers 19\n",
      "Odd numbers 21\n",
      "Odd numbers 23\n",
      "Odd numbers 25\n",
      "Odd numbers 27\n",
      "Odd numbers 29\n"
     ]
    }
   ],
   "source": [
    "#To display the odd numbers from 11 to 30.\n",
    "for i in range(11,31,2):\n",
    "    print(\"Odd numbers\",i)"
   ]
  },
  {
   "cell_type": "code",
   "execution_count": 16,
   "metadata": {},
   "outputs": [
    {
     "name": "stdout",
     "output_type": "stream",
     "text": [
      "Odd numbers 11\n",
      "Odd numbers 13\n",
      "Odd numbers 15\n",
      "Odd numbers 17\n",
      "Odd numbers 19\n",
      "Odd numbers 21\n",
      "Odd numbers 23\n",
      "Odd numbers 25\n",
      "Odd numbers 27\n",
      "Odd numbers 29\n"
     ]
    }
   ],
   "source": [
    "#To display the odd numbers from 11 to 30.\n",
    "for i in range(11,31):\n",
    "    if(i%2!=0):\n",
    "        print(\"Odd numbers\",i)"
   ]
  },
  {
   "cell_type": "code",
   "execution_count": 17,
   "metadata": {},
   "outputs": [
    {
     "name": "stdout",
     "output_type": "stream",
     "text": [
      "12\n",
      "14\n",
      "16\n",
      "18\n",
      "20\n",
      "22\n",
      "24\n",
      "26\n",
      "28\n",
      "30\n"
     ]
    }
   ],
   "source": [
    "#To display the even numbers from 11 to 30.\n",
    "for i in range(12,31,2):\n",
    "    print(i)"
   ]
  },
  {
   "cell_type": "code",
   "execution_count": 18,
   "metadata": {},
   "outputs": [
    {
     "name": "stdout",
     "output_type": "stream",
     "text": [
      "Even numbers 12\n",
      "Even numbers 14\n",
      "Even numbers 16\n",
      "Even numbers 18\n",
      "Even numbers 20\n",
      "Even numbers 22\n",
      "Even numbers 24\n",
      "Even numbers 26\n",
      "Even numbers 28\n",
      "Even numbers 30\n"
     ]
    }
   ],
   "source": [
    "#To display the even numbers from 11 to 30.\n",
    "for i in range(11,31,):\n",
    "    if(i%2==0):\n",
    "        print(\"Even numbers\",i)"
   ]
  },
  {
   "cell_type": "code",
   "execution_count": 20,
   "metadata": {},
   "outputs": [
    {
     "name": "stdout",
     "output_type": "stream",
     "text": [
      "Number series \n",
      "1\t4\t9\t16\t25\t36\t49\t64\t81\t100\t"
     ]
    }
   ],
   "source": [
    "#To display a number series=>1,4,9...100\n",
    "print(\"Number series: \")\n",
    "for i in range(1,11):\n",
    "    print(i*i,end='\\t')"
   ]
  },
  {
   "cell_type": "code",
   "execution_count": 24,
   "metadata": {},
   "outputs": [
    {
     "name": "stdout",
     "output_type": "stream",
     "text": [
      "Multiplication table of 5\n",
      "5 * 1 = 5\n",
      "5 * 2 = 10\n",
      "5 * 3 = 15\n",
      "5 * 4 = 20\n",
      "5 * 5 = 25\n",
      "5 * 6 = 30\n",
      "5 * 7 = 35\n",
      "5 * 8 = 40\n",
      "5 * 9 = 45\n",
      "5 * 10 = 50\n"
     ]
    }
   ],
   "source": [
    "#To display the multiplication table of 5.\n",
    "print(\"Multiplication table of 5\")\n",
    "for i in range(1,11):\n",
    "    print(f\"5 * {i} = {5*i}\")"
   ]
  },
  {
   "cell_type": "code",
   "execution_count": 25,
   "metadata": {},
   "outputs": [
    {
     "name": "stdout",
     "output_type": "stream",
     "text": [
      "5\n",
      "55\n",
      "555\n",
      "5555\n",
      "55555\n"
     ]
    }
   ],
   "source": [
    "for i in range(1,6):\n",
    "    print('5'*i)"
   ]
  },
  {
   "cell_type": "code",
   "execution_count": 26,
   "metadata": {},
   "outputs": [
    {
     "name": "stdout",
     "output_type": "stream",
     "text": [
      "*\n",
      "**\n",
      "***\n",
      "****\n",
      "*****\n"
     ]
    }
   ],
   "source": [
    "for i in range(1,6):\n",
    "    print('*'*i)"
   ]
  },
  {
   "cell_type": "code",
   "execution_count": 36,
   "metadata": {},
   "outputs": [
    {
     "name": "stdout",
     "output_type": "stream",
     "text": [
      "2+22+222+2222+22222+"
     ]
    }
   ],
   "source": [
    "#To display the series 2+22+222+2222...n terms.\n",
    "#input=> n terms\n",
    "n=int(input(\"Enter the number\"))\n",
    "ch='2'\n",
    "for i in range(1,n+1):\n",
    "    print(f\"{ch}\",end='+')\n",
    "    ch+='2' #ch=ch+'2'\n",
    "    \n",
    "    "
   ]
  },
  {
   "cell_type": "code",
   "execution_count": 37,
   "metadata": {},
   "outputs": [
    {
     "name": "stdout",
     "output_type": "stream",
     "text": [
      "Inside a for loop\n",
      "Inside a for loop\n",
      "Inside a for loop\n",
      "Outside a for loop\n"
     ]
    }
   ],
   "source": [
    "#for with else statement\n",
    "for i in range(1,4):\n",
    "    print(\"Inside a for loop\")\n",
    "else:\n",
    "    print(\"Outside a for loop\")"
   ]
  },
  {
   "cell_type": "code",
   "execution_count": 38,
   "metadata": {},
   "outputs": [
    {
     "name": "stdout",
     "output_type": "stream",
     "text": [
      "P\n",
      "r\n",
      "e\n",
      "e\n"
     ]
    }
   ],
   "source": [
    "#for with break statement\n",
    "for i in 'Preeti':\n",
    "    if(i=='t'):\n",
    "        break\n",
    "    print(i)"
   ]
  },
  {
   "cell_type": "code",
   "execution_count": 39,
   "metadata": {},
   "outputs": [
    {
     "name": "stdout",
     "output_type": "stream",
     "text": [
      "P\n",
      "r\n",
      "e\n",
      "e\n",
      "i\n"
     ]
    }
   ],
   "source": [
    "#for with continue statement\n",
    "for i in 'Preeti':\n",
    "    if(i=='t'):\n",
    "        continue\n",
    "    print(i)"
   ]
  },
  {
   "cell_type": "code",
   "execution_count": 60,
   "metadata": {},
   "outputs": [
    {
     "name": "stdout",
     "output_type": "stream",
     "text": [
      "5\n",
      "Better luck next time\n"
     ]
    }
   ],
   "source": [
    "#guess number \n",
    "import random\n",
    "number=random.randint(1,10)\n",
    "print(number)\n",
    "for i in range(1,4):\n",
    "    user_number=int(input(\"Enter guessing number\"))\n",
    "    if(number==user_number):\n",
    "        print(\"You guessed correctly\")\n",
    "        break\n",
    "else:\n",
    "    print(\"Better luck next time\")"
   ]
  },
  {
   "cell_type": "code",
   "execution_count": 1,
   "metadata": {},
   "outputs": [
    {
     "name": "stdout",
     "output_type": "stream",
     "text": [
      "Value of x is 11\n",
      "Value of x is 12\n",
      "Value of x is 13\n",
      "Value of x is 14\n",
      "Value of x is 15\n"
     ]
    }
   ],
   "source": [
    "#while loop\n",
    "#To generate sequence no from 11 to 15.\n",
    "x=11\n",
    "while(x<=15):\n",
    "    print(\"Value of x is\",x)\n",
    "    x+=1  #increment counter variable"
   ]
  },
  {
   "cell_type": "code",
   "execution_count": 3,
   "metadata": {},
   "outputs": [
    {
     "name": "stdout",
     "output_type": "stream",
     "text": [
      "Sum of digits of a given 756 is 18\n"
     ]
    }
   ],
   "source": [
    "#To display sum of digits of a given number.\n",
    "number=int(input(\"Enter the number\"))\n",
    "temp=number\n",
    "remainder=0\n",
    "sum=0 #output variable\n",
    "while(number>0):\n",
    "    remainder=number%10\n",
    "    sum+=remainder\n",
    "    number=number//10 #quotient\n",
    "print(f\"Sum of digits of a given {temp} is {sum}\")\n",
    "    \n",
    "    "
   ]
  },
  {
   "cell_type": "code",
   "execution_count": 6,
   "metadata": {},
   "outputs": [
    {
     "name": "stdout",
     "output_type": "stream",
     "text": [
      "Reverse number of a given 687898 is 898786\n"
     ]
    }
   ],
   "source": [
    "#To display the reverse number of a given number.\n",
    "#756=>657\n",
    "number=int(input(\"Enter the number\"))\n",
    "temp=number\n",
    "remainder=0\n",
    "reverse_number=0 #output variable\n",
    "while(number>0):\n",
    "    remainder=number%10\n",
    "    reverse_number=reverse_number*10+remainder\n",
    "    number=number//10 #quotient\n",
    "print(f\"Reverse number of a given {temp} is {reverse_number}\")"
   ]
  },
  {
   "cell_type": "code",
   "execution_count": 7,
   "metadata": {},
   "outputs": [
    {
     "name": "stdout",
     "output_type": "stream",
     "text": [
      "Reverse number of a given 7658 is 8567\n"
     ]
    }
   ],
   "source": [
    "#To display the reverse number of a given number.\n",
    "number=int(input(\"Enter the number\"))\n",
    "#type casting\n",
    "s1=str(number) #convert number into string\n",
    "rev_s1=s1[::-1]\n",
    "##convert string into number\n",
    "reverse_number=int(rev_s1)\n",
    "print(f\"Reverse number of a given {number} is {reverse_number}\")"
   ]
  },
  {
   "cell_type": "code",
   "execution_count": 8,
   "metadata": {},
   "outputs": [],
   "source": [
    "x=0\n",
    "while x*10:\n",
    "    print(\"hello\")"
   ]
  },
  {
   "cell_type": "code",
   "execution_count": 10,
   "metadata": {},
   "outputs": [
    {
     "name": "stdout",
     "output_type": "stream",
     "text": [
      "Bye\n"
     ]
    }
   ],
   "source": [
    "x=0\n",
    "if x:\n",
    "    print(\"Hello\")\n",
    "else:\n",
    "    print(\"Bye\")"
   ]
  },
  {
   "cell_type": "code",
   "execution_count": 18,
   "metadata": {},
   "outputs": [
    {
     "name": "stdout",
     "output_type": "stream",
     "text": [
      "hello\n"
     ]
    }
   ],
   "source": [
    "x=10\n",
    "while x*10:\n",
    "    print(\"hello\")\n",
    "    break\n",
    "else:\n",
    "    print(\"Bye\")"
   ]
  },
  {
   "cell_type": "code",
   "execution_count": 25,
   "metadata": {},
   "outputs": [
    {
     "name": "stdout",
     "output_type": "stream",
     "text": [
      "Please visit to main branch\n"
     ]
    }
   ],
   "source": [
    "atm_password=1234\n",
    "attempts=1\n",
    "while(attempts<4):\n",
    "    password=int(input(\"Enter the password\"))\n",
    "    if(atm_password==password):\n",
    "        print(\"Please you can do further bank operations\")\n",
    "        break\n",
    "    attempts+=1\n",
    "else:\n",
    "    print(\"Please visit to main branch\")"
   ]
  },
  {
   "cell_type": "code",
   "execution_count": 26,
   "metadata": {},
   "outputs": [
    {
     "name": "stdout",
     "output_type": "stream",
     "text": [
      "Value of y 200\n",
      "Value of x 100\n"
     ]
    }
   ],
   "source": [
    "x=100\n",
    "y=200\n",
    "print(\"Value of y\",y)\n",
    "pass #null statement\n",
    "print(\"Value of x\",x)"
   ]
  },
  {
   "cell_type": "code",
   "execution_count": null,
   "metadata": {},
   "outputs": [],
   "source": [
    "#input =>given list\n",
    "x = [10, -20, 15, 30, -45, 65, -27]\n",
    "a = [] #output variable\n",
    "#for loop  for accessing one by one element from a list\n",
    "for i in x:\n",
    "    #to check the given number is positive\n",
    "    if i >= 0:\n",
    "        #if number is positive the add into a list variable\n",
    "        a.append(i)\n",
    "#to dipslay the output of program\n",
    "print(f\"The positive numbers are {a}\")"
   ]
  },
  {
   "cell_type": "code",
   "execution_count": 1,
   "metadata": {},
   "outputs": [
    {
     "name": "stdout",
     "output_type": "stream",
     "text": [
      "Names are which containing an alphabet 'r' ['Vikram', 'Trupti', 'Shruti']\n"
     ]
    }
   ],
   "source": [
    "#To display the name of students which contains alphabet 'r'.\n",
    "#input variable=>names\n",
    "names=('Vikram','Trupti','Anjali','Shruti','Mudit','Siddhant')\n",
    "#output variable \n",
    "result=[]\n",
    "for n in names:\n",
    "    if 'r' in n:\n",
    "        result.append(n)\n",
    "print(f\"Names are which containing an alphabet 'r' {result}\")\n",
    "        \n"
   ]
  },
  {
   "cell_type": "code",
   "execution_count": 8,
   "metadata": {},
   "outputs": [
    {
     "name": "stdout",
     "output_type": "stream",
     "text": [
      "names are start with s are ['Shruti', 'Siddhant', 'Sonali', 'Satyam', 'shivani']\n"
     ]
    }
   ],
   "source": [
    "#To display the name of students those are start with alphabet 'S'\n",
    "#input variable=>names\n",
    "names=('Vikram','Trupti','Anjali','Shruti','Mudit','Siddhant','Sonali','Satyam','AaStha','shivani')\n",
    "result=[]\n",
    "for n in names:\n",
    "    if n.startswith('S') or n.startswith('s'):\n",
    "        result.append(n)\n",
    "print(f\"names are start with s are {result}\")"
   ]
  },
  {
   "cell_type": "code",
   "execution_count": 7,
   "metadata": {},
   "outputs": [
    {
     "name": "stdout",
     "output_type": "stream",
     "text": [
      "names are start with s are ['Shruti', 'Siddhant', 'Sonali', 'Satyam']\n"
     ]
    }
   ],
   "source": [
    "#To display the name of students those are start with alphabet 'S'\n",
    "#input variable=>names\n",
    "names=('Vikram','Trupti','Anjali','Shruti','Mudit','Siddhant','Sonali','Satyam','AaStha')\n",
    "result=[]\n",
    "for n in names:\n",
    "    if 'S' in n[0]:\n",
    "        result.append(n)\n",
    "print(f\"names are start with s are {result}\")"
   ]
  },
  {
   "cell_type": "code",
   "execution_count": 12,
   "metadata": {},
   "outputs": [
    {
     "name": "stdout",
     "output_type": "stream",
     "text": [
      "Reverse string order tuple elements  ['markiV', 'itpurT', 'ilajnA', 'iturhS', 'tiduM', 'tnahddiS', 'ilanoS', 'maytaS', 'ahtSaA']\n"
     ]
    }
   ],
   "source": [
    "#To display reverse string of elements of a tuple.\n",
    "#input variable=>names\n",
    "names=('Vikram','Trupti','Anjali','Shruti','Mudit','Siddhant','Sonali','Satyam','AaStha')\n",
    "#output variable\n",
    "reverse_string=[]\n",
    "for i in names:\n",
    "    reverse_string.append(i[::-1])\n",
    "print(\"Reverse string order tuple elements \",reverse_string)"
   ]
  },
  {
   "cell_type": "code",
   "execution_count": 13,
   "metadata": {},
   "outputs": [
    {
     "name": "stdout",
     "output_type": "stream",
     "text": [
      "Character list is ['H', 'a', 'r', 's', 'h', 'a', 'l']\n"
     ]
    }
   ],
   "source": [
    "x='Harshal'\n",
    "result=[i for i in x]\n",
    "print(\"Character list is\",result)"
   ]
  },
  {
   "cell_type": "code",
   "execution_count": 14,
   "metadata": {},
   "outputs": [
    {
     "name": "stdout",
     "output_type": "stream",
     "text": [
      "Square of number from a given list [9, 36, 64, 81, 144, 225]\n"
     ]
    }
   ],
   "source": [
    "#to display square of number from a given tuple\n",
    "numbers=(3,6,8,9,12,15)\n",
    "sqaure_list=[i*i for i in numbers]\n",
    "print(\"Square of number from a given list\",sqaure_list)"
   ]
  },
  {
   "cell_type": "code",
   "execution_count": 15,
   "metadata": {},
   "outputs": [
    {
     "name": "stdout",
     "output_type": "stream",
     "text": [
      "['markiV', 'itpurT', 'ilajnA', 'iturhS', 'tiduM', 'tnahddiS', 'ilanoS', 'maytaS', 'ahtSaA']\n"
     ]
    }
   ],
   "source": [
    "#To display reverse string of elements of a tuple.\n",
    "#input variable=>names\n",
    "names=('Vikram','Trupti','Anjali','Shruti','Mudit','Siddhant','Sonali','Satyam','AaStha')\n",
    "new_list=[i[::-1] for i in names]\n",
    "print(new_list)"
   ]
  },
  {
   "cell_type": "code",
   "execution_count": 19,
   "metadata": {},
   "outputs": [
    {
     "name": "stdout",
     "output_type": "stream",
     "text": [
      "Positive numbers are [10, 15, 30, 65]\n",
      "Total no of positive numbers are 4\n"
     ]
    }
   ],
   "source": [
    "#To filter positive numbers from a given list and count total no of positive elements.\n",
    "x = [10, -20, 15, 30, -45, 65, -27]\n",
    "pos_number=[i for i in x if i>0]\n",
    "print(\"Positive numbers are\",pos_number)\n",
    "print(\"Total no of positive numbers are\",len(pos_number))"
   ]
  },
  {
   "cell_type": "code",
   "execution_count": 17,
   "metadata": {},
   "outputs": [
    {
     "name": "stdout",
     "output_type": "stream",
     "text": [
      "Positive numbers are [-20, -45, -27]\n"
     ]
    }
   ],
   "source": [
    "#To filter negative numbers from a given list\n",
    "x = [10, -20, 15, 30, -45, 65, -27]\n",
    "neg_number=[i for i in x if i<0]\n",
    "print(\"Positive numbers are\",neg_number)"
   ]
  },
  {
   "cell_type": "code",
   "execution_count": 25,
   "metadata": {},
   "outputs": [
    {
     "name": "stdout",
     "output_type": "stream",
     "text": [
      "8\n"
     ]
    }
   ],
   "source": [
    "birthdate='12/06/2024'\n",
    "lucky_number=sum([int(i) for i in birthdate if i.isdigit()])\n",
    "while lucky_number>9:\n",
    "    lucky_number=sum([int(i) for i in str(lucky_number)])\n",
    "print(\"Lucky number is \",lucky_number)"
   ]
  },
  {
   "cell_type": "code",
   "execution_count": null,
   "metadata": {},
   "outputs": [],
   "source": [
    "vechicle_number='MH12RH1786'"
   ]
  },
  {
   "cell_type": "code",
   "execution_count": 2,
   "metadata": {},
   "outputs": [
    {
     "name": "stdout",
     "output_type": "stream",
     "text": [
      "Outer loop counter variable value i= 1\n",
      "Inner loop counter variable j= 1\n",
      "Inner loop counter variable j= 2\n",
      "Outer loop counter variable value i= 2\n",
      "Inner loop counter variable j= 1\n",
      "Inner loop counter variable j= 2\n",
      "Outer loop counter variable value i= 3\n",
      "Inner loop counter variable j= 1\n",
      "Inner loop counter variable j= 2\n"
     ]
    }
   ],
   "source": [
    "#Nested while loop\n",
    "i=1\n",
    "while(i<=3):\n",
    "    print(\"Outer loop counter variable value i=\",i)\n",
    "    j=1\n",
    "    while(j<=2):\n",
    "        print(\"Inner loop counter variable j=\",j)\n",
    "        j+=1\n",
    "    i+=1"
   ]
  },
  {
   "cell_type": "code",
   "execution_count": 4,
   "metadata": {},
   "outputs": [
    {
     "name": "stdout",
     "output_type": "stream",
     "text": [
      "11\t22\t33\t44\t55\t66\t77\t88\t99\t110\t\n",
      "\n",
      "12\t24\t36\t48\t60\t72\t84\t96\t108\t120\t\n",
      "\n",
      "13\t26\t39\t52\t65\t78\t91\t104\t117\t130\t\n",
      "\n",
      "14\t28\t42\t56\t70\t84\t98\t112\t126\t140\t\n",
      "\n",
      "15\t30\t45\t60\t75\t90\t105\t120\t135\t150\t\n",
      "\n"
     ]
    }
   ],
   "source": [
    "#To display the multiplication table from 11 to 15.\n",
    "#counter variable=>to take number\n",
    "i=11\n",
    "while(i<=15):\n",
    "    #counter variable=>to generate multiplication table\n",
    "    j=1\n",
    "    while(j<=10):\n",
    "        print(i*j,end='\\t')\n",
    "        #update variable j\n",
    "        j+=1\n",
    "    print(\"\\n\")\n",
    "    #update variable i\n",
    "    i+=1\n",
    "        "
   ]
  },
  {
   "cell_type": "code",
   "execution_count": 6,
   "metadata": {},
   "outputs": [
    {
     "name": "stdout",
     "output_type": "stream",
     "text": [
      "Outer loop variable i= 1\n",
      "Inner loop counter variable j= 1\n",
      "Inner loop counter variable j= 2\n",
      "Outer loop variable i= 2\n",
      "Inner loop counter variable j= 1\n",
      "Inner loop counter variable j= 2\n",
      "Outer loop variable i= 3\n",
      "Inner loop counter variable j= 1\n",
      "Inner loop counter variable j= 2\n"
     ]
    }
   ],
   "source": [
    "#nested for loop\n",
    "for i in range(1,4):\n",
    "    print(\"Outer loop variable i=\",i)\n",
    "    for j in range(1,3):\n",
    "        print(\"Inner loop counter variable j=\",j)"
   ]
  },
  {
   "cell_type": "code",
   "execution_count": 8,
   "metadata": {},
   "outputs": [
    {
     "name": "stdout",
     "output_type": "stream",
     "text": [
      "11\t22\t33\t44\t55\t66\t77\t88\t99\t110\t\n",
      "\n",
      "12\t24\t36\t48\t60\t72\t84\t96\t108\t120\t\n",
      "\n",
      "13\t26\t39\t52\t65\t78\t91\t104\t117\t130\t\n",
      "\n",
      "14\t28\t42\t56\t70\t84\t98\t112\t126\t140\t\n",
      "\n",
      "15\t30\t45\t60\t75\t90\t105\t120\t135\t150\t\n",
      "\n"
     ]
    }
   ],
   "source": [
    "#To display the multiplication table from 11 to 15.\n",
    "for i in range(11,16):\n",
    "    for j in range(1,11):\n",
    "        print(i*j,end='\\t')\n",
    "    print('\\n')"
   ]
  },
  {
   "cell_type": "code",
   "execution_count": 9,
   "metadata": {},
   "outputs": [
    {
     "name": "stdout",
     "output_type": "stream",
     "text": [
      "1\t\n",
      "\n",
      "1\t2\t\n",
      "\n",
      "1\t2\t3\t\n",
      "\n",
      "1\t2\t3\t4\t\n",
      "\n",
      "1\t2\t3\t4\t5\t\n",
      "\n"
     ]
    }
   ],
   "source": [
    "for i in range(1,6):\n",
    "    for j in range(1,i+1):\n",
    "        print(j,end='\\t')\n",
    "    print('\\n')"
   ]
  },
  {
   "cell_type": "code",
   "execution_count": 10,
   "metadata": {},
   "outputs": [
    {
     "name": "stdout",
     "output_type": "stream",
     "text": [
      "1\t\n",
      "\n",
      "2\t2\t\n",
      "\n",
      "3\t3\t3\t\n",
      "\n",
      "4\t4\t4\t4\t\n",
      "\n",
      "5\t5\t5\t5\t5\t\n",
      "\n"
     ]
    }
   ],
   "source": [
    "for i in range(1,6):\n",
    "    for j in range(1,i+1):\n",
    "        print(i,end='\\t')\n",
    "    print('\\n')"
   ]
  },
  {
   "cell_type": "code",
   "execution_count": 11,
   "metadata": {},
   "outputs": [
    {
     "name": "stdout",
     "output_type": "stream",
     "text": [
      "1\t\n",
      "\n",
      "2\t4\t\n",
      "\n",
      "3\t6\t9\t\n",
      "\n",
      "4\t8\t12\t16\t\n",
      "\n",
      "5\t10\t15\t20\t25\t\n",
      "\n"
     ]
    }
   ],
   "source": [
    "for i in range(1,6):\n",
    "    for j in range(1,i+1):\n",
    "        print(i*j,end='\\t')\n",
    "    print('\\n')"
   ]
  },
  {
   "cell_type": "code",
   "execution_count": 13,
   "metadata": {},
   "outputs": [
    {
     "name": "stdout",
     "output_type": "stream",
     "text": [
      "1\t\n",
      "\n",
      "2\t3\t\n",
      "\n",
      "3\t4\t5\t\n",
      "\n",
      "4\t5\t6\t7\t\n",
      "\n",
      "5\t6\t7\t8\t9\t\n",
      "\n"
     ]
    }
   ],
   "source": [
    "for i in range(1,6):\n",
    "    for j in range(1,i+1):\n",
    "        print(i+j-1,end='\\t')\n",
    "    print('\\n')"
   ]
  },
  {
   "cell_type": "code",
   "execution_count": 19,
   "metadata": {},
   "outputs": [
    {
     "name": "stdout",
     "output_type": "stream",
     "text": [
      "1\t\n",
      "\n",
      "2\t3\t\n",
      "\n",
      "3\t4\t5\t\n",
      "\n",
      "4\t5\t6\t7\t\n",
      "\n",
      "5\t6\t7\t8\t9\t\n",
      "\n"
     ]
    }
   ],
   "source": [
    "for i in range(1,6):\n",
    "    for j in range(0,i):\n",
    "        print(i+j,end='\\t')\n",
    "    print('\\n')"
   ]
  },
  {
   "cell_type": "code",
   "execution_count": 23,
   "metadata": {},
   "outputs": [
    {
     "name": "stdout",
     "output_type": "stream",
     "text": [
      "1\t\n",
      "2\t3\t\n",
      "3\t4\t5\t\n",
      "4\t5\t6\t7\t\n",
      "5\t6\t7\t8\t9\t\n"
     ]
    }
   ],
   "source": [
    "for i in range(1,6) :                  \n",
    "    for j  in range(6) :             \n",
    "        if i-1   >=  j   : \n",
    "            print(i+j,  end = \"\\t\")\n",
    "    print()"
   ]
  },
  {
   "cell_type": "code",
   "execution_count": 26,
   "metadata": {},
   "outputs": [
    {
     "name": "stdout",
     "output_type": "stream",
     "text": [
      "A\t\n",
      "\n",
      "A\tA\t\n",
      "\n",
      "A\tA\tA\t\n",
      "\n",
      "A\tA\tA\tA\t\n",
      "\n",
      "A\tA\tA\tA\tA\t\n",
      "\n"
     ]
    }
   ],
   "source": [
    "ascii_value=ord('A')\n",
    "for i in range(1,6):\n",
    "    for j in range(1,i+1):\n",
    "        print(chr(ascii_value),end='\\t')\n",
    "    print('\\n')"
   ]
  },
  {
   "cell_type": "code",
   "execution_count": 24,
   "metadata": {},
   "outputs": [
    {
     "data": {
      "text/plain": [
       "65"
      ]
     },
     "execution_count": 24,
     "metadata": {},
     "output_type": "execute_result"
    }
   ],
   "source": [
    "ord('A')"
   ]
  },
  {
   "cell_type": "code",
   "execution_count": 25,
   "metadata": {},
   "outputs": [
    {
     "data": {
      "text/plain": [
       "'A'"
      ]
     },
     "execution_count": 25,
     "metadata": {},
     "output_type": "execute_result"
    }
   ],
   "source": [
    "chr(65)"
   ]
  },
  {
   "cell_type": "code",
   "execution_count": 27,
   "metadata": {},
   "outputs": [
    {
     "name": "stdout",
     "output_type": "stream",
     "text": [
      "A\t\n",
      "\n",
      "B\tC\t\n",
      "\n",
      "D\tE\tF\t\n",
      "\n",
      "G\tH\tI\tJ\t\n",
      "\n",
      "K\tL\tM\tN\tO\t\n",
      "\n"
     ]
    }
   ],
   "source": [
    "ascii_value=ord('A')\n",
    "for i in range(1,6):\n",
    "    for j in range(1,i+1):\n",
    "        print(chr(ascii_value),end='\\t')\n",
    "        ascii_value+=1\n",
    "    print('\\n')"
   ]
  },
  {
   "cell_type": "code",
   "execution_count": 28,
   "metadata": {},
   "outputs": [
    {
     "name": "stdout",
     "output_type": "stream",
     "text": [
      "A\t\n",
      "\n",
      "B\tB\t\n",
      "\n",
      "C\tC\tC\t\n",
      "\n",
      "D\tD\tD\tD\t\n",
      "\n",
      "E\tE\tE\tE\tE\t\n",
      "\n"
     ]
    }
   ],
   "source": [
    "ascii_value=ord('A')\n",
    "for i in range(1,6):\n",
    "    for j in range(1,i+1):\n",
    "        print(chr(ascii_value),end='\\t')\n",
    "    ascii_value+=1\n",
    "    print('\\n')"
   ]
  },
  {
   "cell_type": "code",
   "execution_count": 29,
   "metadata": {},
   "outputs": [
    {
     "name": "stdout",
     "output_type": "stream",
     "text": [
      "A\t\n",
      "\n",
      "A\tB\t\n",
      "\n",
      "A\tB\tC\t\n",
      "\n",
      "A\tB\tC\tD\t\n",
      "\n",
      "A\tB\tC\tD\tE\t\n",
      "\n"
     ]
    }
   ],
   "source": [
    "\n",
    "for i in range(1,6):\n",
    "    ascii_value=ord('A')\n",
    "    for j in range(1,i+1):\n",
    "        print(chr(ascii_value),end='\\t')\n",
    "        ascii_value+=1\n",
    "    print('\\n')"
   ]
  },
  {
   "cell_type": "code",
   "execution_count": 30,
   "metadata": {},
   "outputs": [
    {
     "name": "stdout",
     "output_type": "stream",
     "text": [
      "Total no of list elements 8\n",
      "Result list [[1, 1, 1], [1, 1, 2], [1, 2, 1], [1, 2, 2], [2, 1, 1], [2, 1, 2], [2, 2, 1], [2, 2, 2]]\n"
     ]
    }
   ],
   "source": [
    "result=[[x,y,z] for x in range(1,3) for y in range(1,3) for z in range(1,3)]\n",
    "print(\"Total no of list elements\",len(result))\n",
    "print(\"Result list\",result)"
   ]
  },
  {
   "cell_type": "code",
   "execution_count": 31,
   "metadata": {},
   "outputs": [
    {
     "name": "stdout",
     "output_type": "stream",
     "text": [
      "1 1 1\n",
      "1 1 2\n",
      "1 2 1\n",
      "1 2 2\n",
      "2 1 1\n",
      "2 1 2\n",
      "2 2 1\n",
      "2 2 2\n"
     ]
    }
   ],
   "source": [
    "for x in range(1,3):\n",
    "    for y in range(1,3):\n",
    "        for z in range(1,3):\n",
    "            print(x,y,z)"
   ]
  }
 ],
 "metadata": {
  "kernelspec": {
   "display_name": "Python 3",
   "language": "python",
   "name": "python3"
  },
  "language_info": {
   "codemirror_mode": {
    "name": "ipython",
    "version": 3
   },
   "file_extension": ".py",
   "mimetype": "text/x-python",
   "name": "python",
   "nbconvert_exporter": "python",
   "pygments_lexer": "ipython3",
   "version": "3.12.2"
  }
 },
 "nbformat": 4,
 "nbformat_minor": 2
}
