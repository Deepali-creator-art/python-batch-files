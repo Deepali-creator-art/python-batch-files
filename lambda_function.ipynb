{
 "cells": [
  {
   "cell_type": "code",
   "execution_count": 2,
   "metadata": {},
   "outputs": [
    {
     "data": {
      "text/plain": [
       "'Welcome to lambda section'"
      ]
     },
     "execution_count": 2,
     "metadata": {},
     "output_type": "execute_result"
    }
   ],
   "source": [
    "#lambda without parameter\n",
    "(lambda :\"Welcome to lambda section\")()"
   ]
  },
  {
   "cell_type": "code",
   "execution_count": 3,
   "metadata": {},
   "outputs": [
    {
     "data": {
      "text/plain": [
       "'Welcome to lambda section'"
      ]
     },
     "execution_count": 3,
     "metadata": {},
     "output_type": "execute_result"
    }
   ],
   "source": [
    "#lambda with parameter\n",
    "(lambda x :\"Welcome to lambda section\")(100)"
   ]
  },
  {
   "cell_type": "code",
   "execution_count": 2,
   "metadata": {},
   "outputs": [
    {
     "data": {
      "text/plain": [
       "'Welcome'"
      ]
     },
     "execution_count": 2,
     "metadata": {},
     "output_type": "execute_result"
    }
   ],
   "source": [
    "fun1=(lambda x:\"Welcome\")\n",
    "fun1(100)"
   ]
  },
  {
   "cell_type": "code",
   "execution_count": 3,
   "metadata": {},
   "outputs": [
    {
     "name": "stdout",
     "output_type": "stream",
     "text": [
      "100\n"
     ]
    }
   ],
   "source": [
    "#default parameter\n",
    "def fun1(x=100):\n",
    "    print(x)\n",
    "fun1()"
   ]
  },
  {
   "cell_type": "code",
   "execution_count": 4,
   "metadata": {},
   "outputs": [
    {
     "data": {
      "text/plain": [
       "100"
      ]
     },
     "execution_count": 4,
     "metadata": {},
     "output_type": "execute_result"
    }
   ],
   "source": [
    "(lambda x=100:x)()"
   ]
  },
  {
   "cell_type": "code",
   "execution_count": 7,
   "metadata": {},
   "outputs": [
    {
     "name": "stdout",
     "output_type": "stream",
     "text": [
      "x=30 y=20\n"
     ]
    }
   ],
   "source": [
    "(lambda x,y:print(f\"x={x} y={y}\"))(30,20)"
   ]
  },
  {
   "cell_type": "code",
   "execution_count": 8,
   "metadata": {},
   "outputs": [
    {
     "name": "stdout",
     "output_type": "stream",
     "text": [
      "(10, 20, 30, 40, 50)\n"
     ]
    }
   ],
   "source": [
    "(lambda *x:print(x))(10,20,30,40,50)"
   ]
  },
  {
   "cell_type": "code",
   "execution_count": 11,
   "metadata": {},
   "outputs": [
    {
     "name": "stdout",
     "output_type": "stream",
     "text": [
      "x=100 y=200\n"
     ]
    }
   ],
   "source": [
    "(lambda y,x:print(f\"x={x} y={y}\"))(x=100,y=200)"
   ]
  },
  {
   "cell_type": "code",
   "execution_count": 12,
   "metadata": {},
   "outputs": [
    {
     "name": "stdout",
     "output_type": "stream",
     "text": [
      "{'x': 100, 'y': 200, 'z': 300, 'a': 400, 'b': 500}\n"
     ]
    }
   ],
   "source": [
    "(lambda **x:print(x))(x=100,y=200,z=300,a=400,b=500)"
   ]
  },
  {
   "cell_type": "code",
   "execution_count": 14,
   "metadata": {},
   "outputs": [
    {
     "name": "stdout",
     "output_type": "stream",
     "text": [
      "Square number list is [121, 144, 169, 196, 225, 256, 289, 324, 361, 400]\n"
     ]
    }
   ],
   "source": [
    "#Write a function to find square of numbers from 11 to 20.\n",
    "#input varaible num\n",
    "num=list(range(11,21))\n",
    "#output varaible \n",
    "square_list_numbers=[]\n",
    "def square_number(a):\n",
    "    for i in a:\n",
    "        square_list_numbers.append(i*i)\n",
    "    print(\"Square number list is\",square_list_numbers)\n",
    "square_number(num) #function call\n",
    "        \n"
   ]
  },
  {
   "cell_type": "code",
   "execution_count": 17,
   "metadata": {},
   "outputs": [
    {
     "name": "stdout",
     "output_type": "stream",
     "text": [
      "Character list is ['A', 'b', 'h', 'i', 'j', 'e', 'e', 't']\n"
     ]
    }
   ],
   "source": [
    "#Write a function to create character list of a given string.\n",
    "name='Abhijeet'\n",
    "def character_list(name):\n",
    "    print(\"Character list is\",list(name))\n",
    "character_list(name)"
   ]
  },
  {
   "cell_type": "code",
   "execution_count": 24,
   "metadata": {},
   "outputs": [
    {
     "name": "stdout",
     "output_type": "stream",
     "text": [
      "[11, 15]\n"
     ]
    }
   ],
   "source": [
    "#Write a function to find duplicates elements from a given tuple.\n",
    "#input variable\n",
    "num_tuple=(10,11,12,11,13,14,15,15,11)\n",
    "result=[]\n",
    "def duplicates_numbers(x):\n",
    "    for i in x:\n",
    "        if(x.count(i)>1):\n",
    "            if i not in result:\n",
    "                result.append(i)\n",
    "    print(result)\n",
    "duplicates_numbers(num_tuple)\n",
    "    \n"
   ]
  },
  {
   "cell_type": "code",
   "execution_count": 25,
   "metadata": {},
   "outputs": [
    {
     "name": "stdout",
     "output_type": "stream",
     "text": [
      "[10, 12, 13, 14]\n"
     ]
    }
   ],
   "source": [
    "#Write a function to find unique elements from a given tuple.\n",
    "#input variable\n",
    "num_tuple=(10,11,12,11,13,14,15,15,11)\n",
    "result=[]\n",
    "def unique_numbers(x):\n",
    "    for i in x:\n",
    "        if(x.count(i)==1):\n",
    "            if i not in result:\n",
    "                result.append(i)\n",
    "    print(result)\n",
    "unique_numbers(num_tuple)"
   ]
  },
  {
   "cell_type": "code",
   "execution_count": 26,
   "metadata": {},
   "outputs": [
    {
     "name": "stdout",
     "output_type": "stream",
     "text": [
      "Original list ['D', 'e', 'e', 'p', 'a', 'k']\n",
      "Updated list ['D', 'e', 'e', 'p', 'i', 'k']\n",
      "Modified string is Deepik\n"
     ]
    }
   ],
   "source": [
    "#Write a function to change the string character.\n",
    "def change_string(x,y,z):\n",
    "    #convert string into list\n",
    "    str_list=list(x)\n",
    "    print(\"Original list\",str_list)\n",
    "    str_list[y]=z\n",
    "    print(\"Updated list\",str_list)\n",
    "    #convert into string\n",
    "    updated_string=\"\".join(str_list)\n",
    "    print(\"Modified string is\",updated_string)   \n",
    "string1='Deepak'\n",
    "index_number=int(input(\"Enter the index number\"))\n",
    "replace_character=input(\"Enter the character\")\n",
    "change_string(string1,index_number,replace_character) #function call"
   ]
  },
  {
   "cell_type": "code",
   "execution_count": 2,
   "metadata": {},
   "outputs": [
    {
     "data": {
      "text/plain": [
       "['H', 'a', 'p', 'p', 'y', ' ', 'D', 'a', 'y', 's']"
      ]
     },
     "execution_count": 2,
     "metadata": {},
     "output_type": "execute_result"
    }
   ],
   "source": [
    "#map function:map(function,input)\n",
    "x='Happy Days'\n",
    "#['H','a'.....'s']\n",
    "list(map(lambda i:i,x))"
   ]
  },
  {
   "cell_type": "code",
   "execution_count": 3,
   "metadata": {},
   "outputs": [
    {
     "name": "stdout",
     "output_type": "stream",
     "text": [
      "['H', 'a', 'p', 'p', 'y', ' ', 'D', 'a', 'y', 's']\n"
     ]
    }
   ],
   "source": [
    "output_list=[]\n",
    "x='Happy Days'\n",
    "for i in x:\n",
    "    output_list.append(i)\n",
    "print(output_list)"
   ]
  },
  {
   "cell_type": "code",
   "execution_count": 6,
   "metadata": {},
   "outputs": [
    {
     "data": {
      "text/plain": [
       "(1, 1, 2, 6, 24, 120)"
      ]
     },
     "execution_count": 6,
     "metadata": {},
     "output_type": "execute_result"
    }
   ],
   "source": [
    "#input=>(0,1,2,3,4,5)\n",
    "#output=>(1,1,2,6,24,120)\n",
    "#Method 1:map function with lambda\n",
    "t1=tuple(range(6))\n",
    "import math\n",
    "tuple(map(lambda x:math.factorial(x),t1))\n"
   ]
  },
  {
   "cell_type": "code",
   "execution_count": 8,
   "metadata": {},
   "outputs": [
    {
     "data": {
      "text/plain": [
       "(1, 1, 2, 6, 24, 120)"
      ]
     },
     "execution_count": 8,
     "metadata": {},
     "output_type": "execute_result"
    }
   ],
   "source": [
    "#Method 2:map function with user defined\n",
    "#input\n",
    "import math\n",
    "t1=tuple(range(6))\n",
    "def fact(x):\n",
    "    return math.factorial(x)\n",
    "tuple(map(fact,t1))"
   ]
  },
  {
   "cell_type": "code",
   "execution_count": 10,
   "metadata": {},
   "outputs": [
    {
     "name": "stdout",
     "output_type": "stream",
     "text": [
      "Factorial number list (1, 1, 2, 6, 24, 120)\n"
     ]
    }
   ],
   "source": [
    "#Method 3\n",
    "import math\n",
    "t1=tuple(range(6))\n",
    "fact_list=[]\n",
    "for i in t1:\n",
    "    fact_list.append(math.factorial(i))\n",
    "print(\"Factorial number list\",tuple(fact_list))"
   ]
  },
  {
   "cell_type": "code",
   "execution_count": 11,
   "metadata": {},
   "outputs": [
    {
     "name": "stdout",
     "output_type": "stream",
     "text": [
      "Numbers are divisible by 3 (12, 24, 30, 27)\n"
     ]
    }
   ],
   "source": [
    "#To filter the elements those are divisible by 3\n",
    "#Method 1\n",
    "#input\n",
    "numbers=(12,67,89,35,23,17,24,30,27)\n",
    "#output\n",
    "output_list=[]\n",
    "for i in numbers:\n",
    "    if(i%3==0):\n",
    "        output_list.append(i)\n",
    "print(\"Numbers are divisible by 3\",tuple(output_list))\n",
    "    \n"
   ]
  },
  {
   "cell_type": "code",
   "execution_count": 13,
   "metadata": {},
   "outputs": [
    {
     "data": {
      "text/plain": [
       "(12, 24, 30, 27)"
      ]
     },
     "execution_count": 13,
     "metadata": {},
     "output_type": "execute_result"
    }
   ],
   "source": [
    "#Method 2: filter function with user defined function\n",
    "#input\n",
    "numbers=(12,67,89,35,23,17,24,30,27)\n",
    "#function definition\n",
    "def check_number_divisible_by_3(x):\n",
    "    return x%3==0\n",
    "tuple(filter(check_number_divisible_by_3,numbers))"
   ]
  },
  {
   "cell_type": "code",
   "execution_count": 14,
   "metadata": {},
   "outputs": [
    {
     "data": {
      "text/plain": [
       "(12, 24, 30, 27)"
      ]
     },
     "execution_count": 14,
     "metadata": {},
     "output_type": "execute_result"
    }
   ],
   "source": [
    "#Method 3: filter function with lambda \n",
    "#input\n",
    "numbers=(12,67,89,35,23,17,24,30,27)\n",
    "tuple(filter(lambda x:x%3==0,numbers))"
   ]
  },
  {
   "cell_type": "code",
   "execution_count": 15,
   "metadata": {},
   "outputs": [
    {
     "data": {
      "text/plain": [
       "(12, 45, 78, 89, 34)"
      ]
     },
     "execution_count": 15,
     "metadata": {},
     "output_type": "execute_result"
    }
   ],
   "source": [
    "input_list=[12,'',45,(),[],78,89,34]\n",
    "tuple(filter(lambda x:bool(x),input_list))"
   ]
  },
  {
   "cell_type": "code",
   "execution_count": 18,
   "metadata": {},
   "outputs": [
    {
     "name": "stdout",
     "output_type": "stream",
     "text": [
      "flask\n",
      "['123', 'flask', '678', 'python', 'C']\n"
     ]
    }
   ],
   "source": [
    "sample_list=['123','ksalf','678','python','C']\n",
    "#OUTPUT=>['123','flask','678','python','C']\n",
    "def rev():\n",
    "    word=sample_list[1]\n",
    "    rev_word=word[::-1]\n",
    "    print(rev_word)\n",
    "    sample_list[1]=rev_word\n",
    "    print(sample_list)\n",
    "rev()"
   ]
  },
  {
   "cell_type": "code",
   "execution_count": 20,
   "metadata": {},
   "outputs": [
    {
     "name": "stdout",
     "output_type": "stream",
     "text": [
      "[('Mudit', 70), ('Pooja', 67), ('Pratiksha', 86), ('Preeti', 78)]\n"
     ]
    }
   ],
   "source": [
    "name_score_list=[('Preeti',78),('Pooja',67),('Pratiksha',86),('Mudit',70)]\n",
    "name_score_list.sort()\n",
    "print(name_score_list)"
   ]
  },
  {
   "cell_type": "code",
   "execution_count": 26,
   "metadata": {},
   "outputs": [
    {
     "data": {
      "text/plain": [
       "[('Pratiksha', 86), ('Preeti', 78), ('Mudit', 70), ('Pooja', 67)]"
      ]
     },
     "execution_count": 26,
     "metadata": {},
     "output_type": "execute_result"
    }
   ],
   "source": [
    "name_score_list=[('Preeti',78),('Pooja',67),('Pratiksha',86),('Mudit',70)]\n",
    "sorted(name_score_list,key=lambda x:x[1],reverse=True)"
   ]
  },
  {
   "cell_type": "code",
   "execution_count": 3,
   "metadata": {},
   "outputs": [
    {
     "name": "stdout",
     "output_type": "stream",
     "text": [
      "<class 'list_iterator'>\n",
      "Access one by one element\n",
      "2\n",
      "4\n",
      "6\n",
      "8\n"
     ]
    },
    {
     "ename": "StopIteration",
     "evalue": "",
     "output_type": "error",
     "traceback": [
      "\u001b[1;31m---------------------------------------------------------------------------\u001b[0m",
      "\u001b[1;31mStopIteration\u001b[0m                             Traceback (most recent call last)",
      "Cell \u001b[1;32mIn[3], line 10\u001b[0m\n\u001b[0;32m      8\u001b[0m \u001b[38;5;28mprint\u001b[39m(\u001b[38;5;28mnext\u001b[39m(a))\n\u001b[0;32m      9\u001b[0m \u001b[38;5;28mprint\u001b[39m(\u001b[38;5;28mnext\u001b[39m(a))\n\u001b[1;32m---> 10\u001b[0m \u001b[38;5;28mprint\u001b[39m(\u001b[38;5;28;43mnext\u001b[39;49m\u001b[43m(\u001b[49m\u001b[43ma\u001b[49m\u001b[43m)\u001b[49m)\n",
      "\u001b[1;31mStopIteration\u001b[0m: "
     ]
    }
   ],
   "source": [
    "#Iterator \n",
    "x=[2,4,6,8]\n",
    "a=iter(x)\n",
    "print(type(a))\n",
    "print(\"Access one by one element\")\n",
    "print(next(a))\n",
    "print(next(a))\n",
    "print(next(a))\n",
    "print(next(a))\n",
    "print(next(a))\n"
   ]
  },
  {
   "cell_type": "code",
   "execution_count": 8,
   "metadata": {},
   "outputs": [
    {
     "name": "stdout",
     "output_type": "stream",
     "text": [
      "<class 'enumerate'>\n",
      "(0, 'S')\n",
      "(1, 'h')\n",
      "(2, 'r')\n",
      "(3, 'u')\n",
      "(4, 't')\n",
      "(5, 'i')\n"
     ]
    },
    {
     "ename": "StopIteration",
     "evalue": "",
     "output_type": "error",
     "traceback": [
      "\u001b[1;31m---------------------------------------------------------------------------\u001b[0m",
      "\u001b[1;31mStopIteration\u001b[0m                             Traceback (most recent call last)",
      "Cell \u001b[1;32mIn[8], line 11\u001b[0m\n\u001b[0;32m      9\u001b[0m \u001b[38;5;28mprint\u001b[39m(\u001b[38;5;28mnext\u001b[39m(a))\n\u001b[0;32m     10\u001b[0m \u001b[38;5;28mprint\u001b[39m(\u001b[38;5;28mnext\u001b[39m(a))\n\u001b[1;32m---> 11\u001b[0m \u001b[38;5;28mprint\u001b[39m(\u001b[38;5;28;43mnext\u001b[39;49m\u001b[43m(\u001b[49m\u001b[43ma\u001b[49m\u001b[43m)\u001b[49m)\n",
      "\u001b[1;31mStopIteration\u001b[0m: "
     ]
    }
   ],
   "source": [
    "#enumerate() :It is an iterator\n",
    "x='Shruti'\n",
    "a=enumerate(x)\n",
    "print(type(a))\n",
    "print(next(a))\n",
    "print(next(a))\n",
    "print(next(a))\n",
    "print(next(a))\n",
    "print(next(a))\n",
    "print(next(a))\n",
    "print(next(a))\n"
   ]
  },
  {
   "cell_type": "code",
   "execution_count": 11,
   "metadata": {},
   "outputs": [
    {
     "name": "stdout",
     "output_type": "stream",
     "text": [
      "<class 'reversed'>\n",
      "e\n",
      "d\n",
      "c\n",
      "b\n",
      "a\n"
     ]
    },
    {
     "ename": "StopIteration",
     "evalue": "",
     "output_type": "error",
     "traceback": [
      "\u001b[1;31m---------------------------------------------------------------------------\u001b[0m",
      "\u001b[1;31mStopIteration\u001b[0m                             Traceback (most recent call last)",
      "Cell \u001b[1;32mIn[11], line 10\u001b[0m\n\u001b[0;32m      8\u001b[0m \u001b[38;5;28mprint\u001b[39m(\u001b[38;5;28mnext\u001b[39m(b))\n\u001b[0;32m      9\u001b[0m \u001b[38;5;28mprint\u001b[39m(\u001b[38;5;28mnext\u001b[39m(b))\n\u001b[1;32m---> 10\u001b[0m \u001b[38;5;28mprint\u001b[39m(\u001b[38;5;28;43mnext\u001b[39;49m\u001b[43m(\u001b[49m\u001b[43mb\u001b[49m\u001b[43m)\u001b[49m)\n",
      "\u001b[1;31mStopIteration\u001b[0m: "
     ]
    }
   ],
   "source": [
    "#reversed()=>It is an iterator\n",
    "y=('a','b','c','d','e')\n",
    "b=reversed(y)\n",
    "print(type(b))\n",
    "print(next(b))\n",
    "print(next(b))\n",
    "print(next(b))\n",
    "print(next(b))\n",
    "print(next(b))\n",
    "print(next(b))"
   ]
  },
  {
   "cell_type": "code",
   "execution_count": 16,
   "metadata": {},
   "outputs": [
    {
     "name": "stdout",
     "output_type": "stream",
     "text": [
      "<class 'generator'>\n",
      "First time function call\n",
      "10\n",
      "Second time function call\n",
      "30\n",
      "Third time function call\n",
      "20\n"
     ]
    }
   ],
   "source": [
    "def fun1():\n",
    "    x=10\n",
    "    yield x\n",
    "    x+=20\n",
    "    yield x\n",
    "    x-=10\n",
    "    yield x\n",
    "g1=fun1() #function convert into  generator\n",
    "print(type(g1))\n",
    "print(\"First time function call\")\n",
    "print(next(g1))\n",
    "print(\"Second time function call\")\n",
    "print(next(g1))\n",
    "print(\"Third time function call\")\n",
    "print(next(g1))"
   ]
  },
  {
   "cell_type": "code",
   "execution_count": null,
   "metadata": {},
   "outputs": [],
   "source": []
  }
 ],
 "metadata": {
  "kernelspec": {
   "display_name": "Python 3",
   "language": "python",
   "name": "python3"
  },
  "language_info": {
   "codemirror_mode": {
    "name": "ipython",
    "version": 3
   },
   "file_extension": ".py",
   "mimetype": "text/x-python",
   "name": "python",
   "nbconvert_exporter": "python",
   "pygments_lexer": "ipython3",
   "version": "3.12.2"
  }
 },
 "nbformat": 4,
 "nbformat_minor": 2
}
