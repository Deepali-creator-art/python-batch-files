{
 "cells": [
  {
   "cell_type": "markdown",
   "metadata": {},
   "source": [
    "Function without parameter"
   ]
  },
  {
   "cell_type": "code",
   "execution_count": 2,
   "metadata": {},
   "outputs": [
    {
     "name": "stdout",
     "output_type": "stream",
     "text": [
      "Tomorrow is holiday\n",
      "Tomorrow is holiday\n"
     ]
    }
   ],
   "source": [
    "#function definition\n",
    "def show():\n",
    "    print(\"Tomorrow is holiday\")\n",
    "show() #function call\n",
    "show() #function call"
   ]
  },
  {
   "cell_type": "code",
   "execution_count": 4,
   "metadata": {},
   "outputs": [],
   "source": [
    "#function definition \n",
    "def display():\n",
    "    x=900\n",
    "    y=300\n",
    "    print(\"Value of x is\",x)\n",
    "    print(\"Value of y is\",y)\n",
    "#function call\n",
    "display()"
   ]
  },
  {
   "cell_type": "code",
   "execution_count": 5,
   "metadata": {},
   "outputs": [
    {
     "name": "stdout",
     "output_type": "stream",
     "text": [
      "Result is pythonpythonpython\n"
     ]
    }
   ],
   "source": [
    "def sample():\n",
    "    a='python'\n",
    "    b=3\n",
    "    print(\"Result is\",a*b)\n",
    "sample()\n",
    "    "
   ]
  },
  {
   "cell_type": "code",
   "execution_count": 6,
   "metadata": {},
   "outputs": [
    {
     "name": "stdout",
     "output_type": "stream",
     "text": [
      "Addition of two numbers 777\n"
     ]
    }
   ],
   "source": [
    "#Write a function to perform addition of two numbers.\n",
    "#function definition\n",
    "def add():\n",
    "    p,q=333,444\n",
    "    print(\"Addition of two numbers\",p+q)\n",
    "add() #function call"
   ]
  },
  {
   "cell_type": "code",
   "execution_count": 7,
   "metadata": {},
   "outputs": [
    {
     "name": "stdout",
     "output_type": "stream",
     "text": [
      "Area of rectangle is 35\n"
     ]
    }
   ],
   "source": [
    "#Write a function to calculate area of rectangle.\n",
    "def area():\n",
    "    l=int(input(\"Enter length of rectangle :\"))\n",
    "    b=int(input(\"Enter breadth of rectangle :\"))\n",
    "    print(\"Area of rectangle is\",l*b)\n",
    "area()"
   ]
  },
  {
   "cell_type": "markdown",
   "metadata": {},
   "source": [
    "Function with parameter\n"
   ]
  },
  {
   "cell_type": "code",
   "execution_count": 13,
   "metadata": {},
   "outputs": [
    {
     "name": "stdout",
     "output_type": "stream",
     "text": [
      "Value of x is 100\n",
      "Tomorrow is holiday\n",
      "Value of x is 3.14\n",
      "Tomorrow is holiday\n",
      "Value of x is python\n",
      "Tomorrow is holiday\n",
      "Value of x is [10, 20, 30, 40, 50]\n",
      "Tomorrow is holiday\n"
     ]
    }
   ],
   "source": [
    "def show(x):\n",
    "    print(\"Value of x is\",x)\n",
    "    print(\"Tomorrow is holiday\")\n",
    "show(100)#function call\n",
    "show(3.14) #function call\n",
    "show('python')#function call\n",
    "show([10,20,30,40,50]) #function call"
   ]
  },
  {
   "cell_type": "code",
   "execution_count": 17,
   "metadata": {},
   "outputs": [
    {
     "name": "stdout",
     "output_type": "stream",
     "text": [
      "Value of x is 100\n",
      "Value of x is 200\n"
     ]
    }
   ],
   "source": [
    "#default parameter\n",
    "def display(x=200):\n",
    "    print(\"Value of x is\",x)\n",
    "display(100) #function call\n",
    "display() #function call"
   ]
  },
  {
   "cell_type": "code",
   "execution_count": 20,
   "metadata": {},
   "outputs": [
    {
     "name": "stdout",
     "output_type": "stream",
     "text": [
      "Phone call by default sim1 : 123446888\n"
     ]
    }
   ],
   "source": [
    "def phone_call(sim1=123446888):\n",
    "    print(f\"Phone call by default sim1 : {sim1}\")\n",
    "phone_call()"
   ]
  },
  {
   "cell_type": "code",
   "execution_count": 27,
   "metadata": {},
   "outputs": [
    {
     "name": "stdout",
     "output_type": "stream",
     "text": [
      "Value of p is 444 and value of q is 333\n",
      "Addition of two numbers 777\n",
      "Value of p is 789 and value of q is 345\n",
      "Addition of two numbers 1134\n"
     ]
    }
   ],
   "source": [
    "#Write a function to perform addition of two numbers.\n",
    "#function definition with parameters\n",
    "def add(p,q):\n",
    "    print(f\"Value of p is {p} and value of q is {q}\")\n",
    "    print(\"Addition of two numbers\",p+q)\n",
    "add(333,444) #function call with constant value\n",
    "add(345,789)"
   ]
  },
  {
   "cell_type": "code",
   "execution_count": 22,
   "metadata": {},
   "outputs": [
    {
     "name": "stdout",
     "output_type": "stream",
     "text": [
      "Area of rectangle is 40\n"
     ]
    }
   ],
   "source": [
    "#Write a function to calculate area of rectangle.\n",
    "def area(l,b):\n",
    "    print(\"Area of rectangle is\",l*b)\n",
    "area(5,8)"
   ]
  },
  {
   "cell_type": "code",
   "execution_count": 30,
   "metadata": {},
   "outputs": [
    {
     "name": "stdout",
     "output_type": "stream",
     "text": [
      "Welcome to Neha Patil\n",
      "Welcome to Pinki Dhole\n"
     ]
    }
   ],
   "source": [
    "#Write a function to display a message with user firstname and lastname.\n",
    "#formal parameter, which are defined at the time of function definition\n",
    "def simple(firstname,lastname): \n",
    "    print(f\"Welcome to {firstname} {lastname}\")\n",
    "simple('Neha','Patil') #static values\n",
    "simple('Pinki','Dhole')\n"
   ]
  },
  {
   "cell_type": "code",
   "execution_count": 34,
   "metadata": {},
   "outputs": [
    {
     "name": "stdout",
     "output_type": "stream",
     "text": [
      "Welcome to rahul  patil\n",
      "Welcome to alexa lobert\n"
     ]
    }
   ],
   "source": [
    "#Write a function to display a message with user firstname and lastname.\n",
    "#formal parameter, which are defined at the time of function definition\n",
    "def simple(firstname='alexa',lastname='lobert'):  #firstname and lastname are formal parameter\n",
    "    print(f\"Welcome to {firstname} {lastname}\")\n",
    "#take the input from user \n",
    "fn=input(\"Enter the first name\")\n",
    "ln=input(\"Enter the last name\")\n",
    "#actual parameter ,which are defined at the time of function call\n",
    "simple(fn,ln)  #fn and ln actual parameter\n",
    "simple()\n"
   ]
  },
  {
   "cell_type": "code",
   "execution_count": 1,
   "metadata": {},
   "outputs": [
    {
     "name": "stdout",
     "output_type": "stream",
     "text": [
      "a=40 b=50 c=60\n"
     ]
    }
   ],
   "source": [
    "def show(a,b,c):\n",
    "    print(f\"a={a} b={b} c={c}\")\n",
    "show(40,50,60)"
   ]
  },
  {
   "cell_type": "code",
   "execution_count": null,
   "metadata": {},
   "outputs": [],
   "source": [
    "def show(c,a,b):\n",
    "    print(f\"a={a} b={b} c={c}\")\n",
    "show(40,50,60)"
   ]
  },
  {
   "cell_type": "code",
   "execution_count": 2,
   "metadata": {},
   "outputs": [
    {
     "name": "stdout",
     "output_type": "stream",
     "text": [
      "a=50 b=40 c=60\n"
     ]
    }
   ],
   "source": [
    "def show(b,a,c):\n",
    "    print(f\"a={a} b={b} c={c}\")\n",
    "show(40,50,60)"
   ]
  },
  {
   "cell_type": "code",
   "execution_count": 8,
   "metadata": {},
   "outputs": [
    {
     "name": "stdout",
     "output_type": "stream",
     "text": [
      "a=50 b=40 c=60\n",
      "a=90 b=80 c=100\n",
      "a=70 b=20 c=100\n",
      "a=70 b=30 c=100\n"
     ]
    }
   ],
   "source": [
    "def show(b=30,a=70,c=100):\n",
    "    print(f\"a={a} b={b} c={c}\")\n",
    "show(40,50,60) #function call\n",
    "show(80,90) #function call\n",
    "show(20) #function call\n",
    "show() #function call"
   ]
  },
  {
   "cell_type": "code",
   "execution_count": 13,
   "metadata": {},
   "outputs": [
    {
     "name": "stdout",
     "output_type": "stream",
     "text": [
      "Value of x with unknown parameters (2, 3, 4, 5, 6, 7, 8, 9, 10, 11, 12)\n"
     ]
    }
   ],
   "source": [
    "#unknown parameter\n",
    "def display(*x):\n",
    "    print(f\"Value of x with unknown parameters\",x)\n",
    "display(2,3,4,5,6,7,8,9,10,11,12) #function call with multiple values"
   ]
  },
  {
   "cell_type": "code",
   "execution_count": 14,
   "metadata": {},
   "outputs": [
    {
     "name": "stdout",
     "output_type": "stream",
     "text": [
      "Value of x  (2, 3, 4, 5, 6, 7, 8, 9, 10, 11, 12)\n"
     ]
    }
   ],
   "source": [
    "def display(x):\n",
    "    print(f\"Value of x \",x)\n",
    "display((2,3,4,5,6,7,8,9,10,11,12)) #function call with tuple"
   ]
  },
  {
   "cell_type": "code",
   "execution_count": 19,
   "metadata": {},
   "outputs": [
    {
     "name": "stdout",
     "output_type": "stream",
     "text": [
      "Students group members name are ('Nikhil', 'Nilam', 'Trupti', 'Shruti')\n"
     ]
    }
   ],
   "source": [
    "def student_group(*name):\n",
    "    print(\"Students group members name are\",name)\n",
    "student_group('Nikhil','Nilam','Trupti','Shruti')    "
   ]
  },
  {
   "cell_type": "code",
   "execution_count": 21,
   "metadata": {},
   "outputs": [
    {
     "name": "stdout",
     "output_type": "stream",
     "text": [
      "a=100 b=300 c=400\n"
     ]
    }
   ],
   "source": [
    "#keyword arguments\n",
    "def display(a,b,c): #formal parameter:a,b,c\n",
    "    print(f\"a={a} b={b} c={c}\")\n",
    "display(a=100,b=300,c=400) #function call  actual parameter:a,b,c"
   ]
  },
  {
   "cell_type": "code",
   "execution_count": 26,
   "metadata": {},
   "outputs": [
    {
     "name": "stdout",
     "output_type": "stream",
     "text": [
      "a=100  b=300 c=400\n"
     ]
    }
   ],
   "source": [
    "def display(c,a,b): #formal parameter:a,b,c\n",
    "    print(f\"a={a}  b={b} c={c}\")\n",
    "display(a=100,b=300,c=400) #function call  actual parameter:a,b,c"
   ]
  },
  {
   "cell_type": "code",
   "execution_count": 27,
   "metadata": {},
   "outputs": [
    {
     "name": "stdout",
     "output_type": "stream",
     "text": [
      "Value of x is {'a': 100, 'b': 300, 'c': 400}\n"
     ]
    }
   ],
   "source": [
    "#unkonwn keyword arguments\n",
    "def display(**x):\n",
    "    print(\"Value of x is\",x)\n",
    "display(a=100,b=300,c=400)"
   ]
  },
  {
   "cell_type": "code",
   "execution_count": 33,
   "metadata": {},
   "outputs": [
    {
     "name": "stdout",
     "output_type": "stream",
     "text": [
      "Currently login users are {'username': ['Deepali', 'Tejas', 'Pushkar'], 'password': ('12345', '56678', '5678')}\n"
     ]
    }
   ],
   "source": [
    "#unkonwn keyword arguments\n",
    "def user_login(**users):\n",
    "    print(\"Currently login users are\",users)\n",
    "user_login(username=['Deepali','Tejas','Pushkar'] ,password=('12345','56678','5678'))"
   ]
  },
  {
   "cell_type": "code",
   "execution_count": 36,
   "metadata": {},
   "outputs": [
    {
     "name": "stdout",
     "output_type": "stream",
     "text": [
      "Value of x is happy\n",
      "Value of y is sad\n"
     ]
    }
   ],
   "source": [
    "#local variables are defined inside a function but not accessible outside a function.\n",
    "def example():\n",
    "    x='happy' # x and y are local variable\n",
    "    y='sad'\n",
    "    print(\"Value of x is\",x)\n",
    "    print(\"Value of y is\",y)\n",
    "example() #function call\n"
   ]
  },
  {
   "cell_type": "code",
   "execution_count": 38,
   "metadata": {},
   "outputs": [
    {
     "name": "stdout",
     "output_type": "stream",
     "text": [
      "Inside a function\n",
      "Value of x is 100\n",
      "Outside a function\n",
      "Value of x is 100\n"
     ]
    }
   ],
   "source": [
    "#Global variables are defined outside a function but accessible anywhere in a program.\n",
    "x=100 # x is global variable\n",
    "def sample():\n",
    "    print(\"Inside a function\")\n",
    "    print(\"Value of x is\",x)\n",
    "sample()#function call\n",
    "print(\"Outside a function\")\n",
    "print(\"Value of x is\",x)"
   ]
  },
  {
   "cell_type": "code",
   "execution_count": 40,
   "metadata": {},
   "outputs": [
    {
     "name": "stdout",
     "output_type": "stream",
     "text": [
      "Value of x is 100\n",
      "Inside a function\n",
      "Value of x is 300\n",
      "Outside a function\n",
      "Value of x is 100\n"
     ]
    }
   ],
   "source": [
    "x=100 # x is global variable\n",
    "def sample():\n",
    "    x=300 #local variable\n",
    "    print(\"Inside a function\")\n",
    "    print(\"Value of x is\",x)\n",
    "print(\"Value of x is\",x)\n",
    "sample()#function call\n",
    "print(\"Outside a function\")\n",
    "print(\"Value of x is\",x)"
   ]
  },
  {
   "cell_type": "code",
   "execution_count": 43,
   "metadata": {},
   "outputs": [
    {
     "name": "stdout",
     "output_type": "stream",
     "text": [
      "Value of a is 222\n"
     ]
    }
   ],
   "source": [
    "#how to modify global variable inside a function\n",
    "a=111 # global variable\n",
    "def show():\n",
    "    global a #global variable a\n",
    "    a=a+111\n",
    "    print(\"Value of a is\",a)\n",
    "show()"
   ]
  },
  {
   "cell_type": "code",
   "execution_count": 45,
   "metadata": {},
   "outputs": [
    {
     "name": "stdout",
     "output_type": "stream",
     "text": [
      "Before a function call\n",
      "Value of a is 111\n",
      "Inside a function\n",
      "Value of a is 222\n",
      "After a function call\n",
      "Value of a is 222\n"
     ]
    }
   ],
   "source": [
    "a=111 # global variable\n",
    "def show():\n",
    "    global a #global variable a\n",
    "    a=a+111\n",
    "    print(\"Inside a function\")\n",
    "    print(\"Value of a is\",a)\n",
    "print(\"Before a function call\")\n",
    "print(\"Value of a is\",a)\n",
    "show() #function call\n",
    "print(\"After a function call\")\n",
    "print(\"Value of a is\",a)"
   ]
  },
  {
   "cell_type": "code",
   "execution_count": 46,
   "metadata": {},
   "outputs": [
    {
     "name": "stdout",
     "output_type": "stream",
     "text": [
      "Value of x before a function call 300\n",
      "Value of x in fun1 300\n",
      "Value of x in fun2 400\n",
      "Value of x in fun3 500\n",
      "Value of x after a function call 400\n"
     ]
    }
   ],
   "source": [
    "x=300 #global variable\n",
    "def fun1():\n",
    "    print(\"Value of x in fun1\",x)\n",
    "def fun2():\n",
    "    global x\n",
    "    x=x+100\n",
    "    print(\"Value of x in fun2\",x)\n",
    "def fun3():\n",
    "    x=500\n",
    "    print(\"Value of x in fun3\",x)\n",
    "print(\"Value of x before a function call\",x)\n",
    "fun1() \n",
    "fun2()\n",
    "fun3()\n",
    "print(\"Value of x after a function call\",x)"
   ]
  },
  {
   "cell_type": "code",
   "execution_count": 47,
   "metadata": {},
   "outputs": [
    {
     "name": "stdout",
     "output_type": "stream",
     "text": [
      "Value of x before a function call 300\n",
      "Value of x in fun2 400\n",
      "Value of x in fun1 400\n",
      "Value of x in fun3 500\n",
      "Value of x after a function call 400\n"
     ]
    }
   ],
   "source": [
    "x=300 #global variable\n",
    "def fun1():\n",
    "    print(\"Value of x in fun1\",x)\n",
    "def fun2():\n",
    "    global x\n",
    "    x=x+100\n",
    "    print(\"Value of x in fun2\",x)\n",
    "def fun3():\n",
    "    x=500 #local variable\n",
    "    print(\"Value of x in fun3\",x)\n",
    "print(\"Value of x before a function call\",x)\n",
    "fun2() \n",
    "fun1()\n",
    "fun3()\n",
    "print(\"Value of x after a function call\",x)"
   ]
  },
  {
   "cell_type": "code",
   "execution_count": 49,
   "metadata": {},
   "outputs": [
    {
     "name": "stdout",
     "output_type": "stream",
     "text": [
      "Current account balance is 120000\n",
      "Current account balance is 150000\n"
     ]
    }
   ],
   "source": [
    "balance_amount=100000 #global variable\n",
    "def credit(amount): #amount is formal parameter\n",
    "    global balance_amount\n",
    "    balance_amount+=amount\n",
    "    print(\"Current account balance is\",balance_amount)\n",
    "credit(20000) #function call with constant value\n",
    "amt=int(input(\"Enter the amount\"))\n",
    "credit(amt) #actual parameter =>amt function call with dynamic input\n"
   ]
  },
  {
   "cell_type": "code",
   "execution_count": 50,
   "metadata": {},
   "outputs": [
    {
     "name": "stdout",
     "output_type": "stream",
     "text": [
      "x is 50\n",
      "Changed local x to 2\n",
      "x is now 50\n"
     ]
    }
   ],
   "source": [
    "x = 50 #global variable\n",
    "def func(x):\n",
    "    print('x is', x)\n",
    "    x = 2 #local variable\n",
    "    print('Changed local x to', x)\n",
    "func(x) #function call\n",
    "print('x is now', x)"
   ]
  },
  {
   "cell_type": "code",
   "execution_count": 51,
   "metadata": {},
   "outputs": [
    {
     "name": "stdout",
     "output_type": "stream",
     "text": [
      "x is 50\n",
      "Changed global x to 2\n",
      "Value of x is 2\n"
     ]
    }
   ],
   "source": [
    "x = 50\n",
    "def func():\n",
    "    global x\n",
    "    print('x is', x)\n",
    "    x = 2\n",
    "    print('Changed global x to', x)\n",
    "func()\n",
    "print('Value of x is', x)"
   ]
  },
  {
   "cell_type": "code",
   "execution_count": 52,
   "metadata": {},
   "outputs": [
    {
     "name": "stdout",
     "output_type": "stream",
     "text": [
      "Hello\n",
      "WorldWorldWorldWorldWorld\n"
     ]
    }
   ],
   "source": [
    "def say(message, times = 1):\n",
    "    print(message * times)\n",
    "say('Hello') #function call\n",
    "say('World', 5) #function call"
   ]
  },
  {
   "cell_type": "code",
   "execution_count": 53,
   "metadata": {},
   "outputs": [
    {
     "name": "stdout",
     "output_type": "stream",
     "text": [
      "a is 3 and b is 7 and c is 10\n",
      "a is 25 and b is 5 and c is 24\n",
      "a is 100 and b is 5 and c is 50\n"
     ]
    }
   ],
   "source": [
    "def func(a, b=5, c=10):\n",
    "    print('a is', a, 'and b is', b, 'and c is', c)\n",
    "func(3, 7) #function call\n",
    "func(25, c = 24) #function call\n",
    "func(c = 50, a = 100)"
   ]
  }
 ],
 "metadata": {
  "kernelspec": {
   "display_name": "Python 3",
   "language": "python",
   "name": "python3"
  },
  "language_info": {
   "codemirror_mode": {
    "name": "ipython",
    "version": 3
   },
   "file_extension": ".py",
   "mimetype": "text/x-python",
   "name": "python",
   "nbconvert_exporter": "python",
   "pygments_lexer": "ipython3",
   "version": "3.12.2"
  }
 },
 "nbformat": 4,
 "nbformat_minor": 2
}
