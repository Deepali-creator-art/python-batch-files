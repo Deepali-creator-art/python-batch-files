{
 "cells": [
  {
   "cell_type": "code",
   "execution_count": 18,
   "metadata": {},
   "outputs": [
    {
     "name": "stdout",
     "output_type": "stream",
     "text": [
      "Successfully connection established\n"
     ]
    }
   ],
   "source": [
    "\n",
    "#importing a library\n",
    "import mysql.connector \n",
    "#Step 1 :To call connect()\n",
    "# x is connection object\n",
    "x=mysql.connector.connect(host='localhost',\n",
    "                        user='root',\n",
    "                        password='root12345',\n",
    "                        database='festival_db',\n",
    "                        auth_plugin='mysql_native_password')\n",
    "if x:\n",
    "    print(\"Successfully connection established\")\n",
    "else:\n",
    "    print(\"Please check the connection\")\n"
   ]
  },
  {
   "cell_type": "code",
   "execution_count": 19,
   "metadata": {},
   "outputs": [],
   "source": [
    "#Step 2: Create a cursor object\n",
    "#y is a cursor object\n",
    "y=x.cursor()"
   ]
  },
  {
   "cell_type": "code",
   "execution_count": 20,
   "metadata": {},
   "outputs": [],
   "source": [
    "#Step 3 :Execute sql queries using cursor object\n",
    "#create a table sql statement\n",
    "y.execute(\"create table if not exists festival(festival_name Text,date Text)\")\n"
   ]
  },
  {
   "cell_type": "code",
   "execution_count": 21,
   "metadata": {},
   "outputs": [],
   "source": [
    "#Step 3 :Execute sql queries using cursor object\n",
    "#insert records into a table\n",
    "y.execute(\"insert into festival(festival_name,date) values('Ganesh Festival','21/08/2024')\")"
   ]
  },
  {
   "cell_type": "code",
   "execution_count": 22,
   "metadata": {},
   "outputs": [],
   "source": [
    "y.execute(\"insert into festival(festival_name,date) values('Dasara','1/09/2024')\")"
   ]
  },
  {
   "cell_type": "code",
   "execution_count": 23,
   "metadata": {},
   "outputs": [],
   "source": [
    "#Step 4:commit()\n",
    "x.commit()"
   ]
  },
  {
   "cell_type": "code",
   "execution_count": 24,
   "metadata": {},
   "outputs": [
    {
     "name": "stdout",
     "output_type": "stream",
     "text": [
      "('Ganesh Festival', '21/08/2024')\n",
      "('Dasara', '1/09/2024')\n",
      "('Ganesh Festival', '21/08/2024')\n",
      "('Dasara', '1/09/2024')\n"
     ]
    }
   ],
   "source": [
    "y.execute(\"select * from festival\")\n",
    "data=y.fetchall()\n",
    "for i in data:\n",
    "    print(i)"
   ]
  },
  {
   "cell_type": "code",
   "execution_count": null,
   "metadata": {},
   "outputs": [],
   "source": []
  }
 ],
 "metadata": {
  "kernelspec": {
   "display_name": "Python 3",
   "language": "python",
   "name": "python3"
  },
  "language_info": {
   "codemirror_mode": {
    "name": "ipython",
    "version": 3
   },
   "file_extension": ".py",
   "mimetype": "text/x-python",
   "name": "python",
   "nbconvert_exporter": "python",
   "pygments_lexer": "ipython3",
   "version": "3.12.4"
  }
 },
 "nbformat": 4,
 "nbformat_minor": 2
}
