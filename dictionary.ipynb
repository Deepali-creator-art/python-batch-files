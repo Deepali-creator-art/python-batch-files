{
 "cells": [
  {
   "cell_type": "code",
   "execution_count": 23,
   "metadata": {},
   "outputs": [
    {
     "name": "stdout",
     "output_type": "stream",
     "text": [
      "<class 'dict'>\n"
     ]
    }
   ],
   "source": [
    "#To create empty  dictionary\n",
    "x=dict()\n",
    "print(type(x))"
   ]
  },
  {
   "cell_type": "code",
   "execution_count": 24,
   "metadata": {},
   "outputs": [
    {
     "name": "stdout",
     "output_type": "stream",
     "text": [
      "<class 'dict'>\n"
     ]
    }
   ],
   "source": [
    "y={}\n",
    "print(type(y))"
   ]
  },
  {
   "cell_type": "code",
   "execution_count": 25,
   "metadata": {},
   "outputs": [
    {
     "name": "stdout",
     "output_type": "stream",
     "text": [
      "{'a': 1, 'b': 2, 'c': 4, 'd': 5}\n"
     ]
    }
   ],
   "source": [
    "x={'a':1,'b':2,'c':4,'d':5}\n",
    "print(x)"
   ]
  },
  {
   "cell_type": "code",
   "execution_count": 26,
   "metadata": {},
   "outputs": [
    {
     "name": "stdout",
     "output_type": "stream",
     "text": [
      "{'a': 1, 'b': 2, 'c': 8, 'd': 5}\n"
     ]
    }
   ],
   "source": [
    "x={'a':1,'b':2,'c':4,'d':5,'c':8}\n",
    "print(x)"
   ]
  },
  {
   "cell_type": "code",
   "execution_count": 27,
   "metadata": {},
   "outputs": [
    {
     "name": "stdout",
     "output_type": "stream",
     "text": [
      "{'student_name': ['Karan', 'Swapnil', 'Amol', 'Tushar'], 'marks': [78, 56, 90, 34]}\n"
     ]
    }
   ],
   "source": [
    "stud_data={'student_name':['Karan','Swapnil','Amol','Tushar'],\n",
    "           'marks':[78,56,90,34]}\n",
    "print(stud_data)"
   ]
  },
  {
   "cell_type": "code",
   "execution_count": 28,
   "metadata": {},
   "outputs": [
    {
     "data": {
      "text/html": [
       "<div>\n",
       "<style scoped>\n",
       "    .dataframe tbody tr th:only-of-type {\n",
       "        vertical-align: middle;\n",
       "    }\n",
       "\n",
       "    .dataframe tbody tr th {\n",
       "        vertical-align: top;\n",
       "    }\n",
       "\n",
       "    .dataframe thead th {\n",
       "        text-align: right;\n",
       "    }\n",
       "</style>\n",
       "<table border=\"1\" class=\"dataframe\">\n",
       "  <thead>\n",
       "    <tr style=\"text-align: right;\">\n",
       "      <th></th>\n",
       "      <th>student_name</th>\n",
       "      <th>marks</th>\n",
       "    </tr>\n",
       "  </thead>\n",
       "  <tbody>\n",
       "    <tr>\n",
       "      <th>0</th>\n",
       "      <td>Karan</td>\n",
       "      <td>78</td>\n",
       "    </tr>\n",
       "    <tr>\n",
       "      <th>1</th>\n",
       "      <td>Swapnil</td>\n",
       "      <td>56</td>\n",
       "    </tr>\n",
       "    <tr>\n",
       "      <th>2</th>\n",
       "      <td>Amol</td>\n",
       "      <td>90</td>\n",
       "    </tr>\n",
       "    <tr>\n",
       "      <th>3</th>\n",
       "      <td>Tushar</td>\n",
       "      <td>34</td>\n",
       "    </tr>\n",
       "  </tbody>\n",
       "</table>\n",
       "</div>"
      ],
      "text/plain": [
       "  student_name  marks\n",
       "0        Karan     78\n",
       "1      Swapnil     56\n",
       "2         Amol     90\n",
       "3       Tushar     34"
      ]
     },
     "execution_count": 28,
     "metadata": {},
     "output_type": "execute_result"
    }
   ],
   "source": [
    "import pandas as pd\n",
    "pd.DataFrame(stud_data)"
   ]
  },
  {
   "cell_type": "code",
   "execution_count": 29,
   "metadata": {},
   "outputs": [
    {
     "data": {
      "text/plain": [
       "dict_keys(['student_name', 'marks'])"
      ]
     },
     "execution_count": 29,
     "metadata": {},
     "output_type": "execute_result"
    }
   ],
   "source": [
    "stud_data.keys()"
   ]
  },
  {
   "cell_type": "code",
   "execution_count": 30,
   "metadata": {},
   "outputs": [
    {
     "data": {
      "text/plain": [
       "dict_values([['Karan', 'Swapnil', 'Amol', 'Tushar'], [78, 56, 90, 34]])"
      ]
     },
     "execution_count": 30,
     "metadata": {},
     "output_type": "execute_result"
    }
   ],
   "source": [
    "stud_data.values()"
   ]
  },
  {
   "cell_type": "code",
   "execution_count": 31,
   "metadata": {},
   "outputs": [
    {
     "data": {
      "text/plain": [
       "dict_items([('student_name', ['Karan', 'Swapnil', 'Amol', 'Tushar']), ('marks', [78, 56, 90, 34])])"
      ]
     },
     "execution_count": 31,
     "metadata": {},
     "output_type": "execute_result"
    }
   ],
   "source": [
    "stud_data.items()"
   ]
  },
  {
   "cell_type": "code",
   "execution_count": 32,
   "metadata": {},
   "outputs": [
    {
     "data": {
      "text/plain": [
       "['Karan', 'Swapnil', 'Amol', 'Tushar']"
      ]
     },
     "execution_count": 32,
     "metadata": {},
     "output_type": "execute_result"
    }
   ],
   "source": [
    "#to access a key values\n",
    "#method 1\n",
    "stud_data.get('student_name')"
   ]
  },
  {
   "cell_type": "code",
   "execution_count": 33,
   "metadata": {},
   "outputs": [
    {
     "data": {
      "text/plain": [
       "['Karan', 'Swapnil', 'Amol', 'Tushar']"
      ]
     },
     "execution_count": 33,
     "metadata": {},
     "output_type": "execute_result"
    }
   ],
   "source": [
    "#method 2\n",
    "stud_data['student_name']"
   ]
  },
  {
   "cell_type": "code",
   "execution_count": 34,
   "metadata": {},
   "outputs": [
    {
     "name": "stdout",
     "output_type": "stream",
     "text": [
      "{'student_name': ['Karan', 'Swapnil', 'Amol', 'Tushar'], 'marks': [78, 56, 90, 34], 'education': ('BE(IT)', 'BECSE', 'BE(E&TC)', 'BE(ELE.)')}\n"
     ]
    }
   ],
   "source": [
    "#to merge two dictionary\n",
    "d1={'education':('BE(IT)','BECSE','BE(E&TC)','BE(ELE.)')}\n",
    "stud_data.update(d1)\n",
    "print(stud_data)\n"
   ]
  },
  {
   "cell_type": "code",
   "execution_count": 35,
   "metadata": {},
   "outputs": [
    {
     "name": "stdout",
     "output_type": "stream",
     "text": [
      "{'student_name': ['Karan', 'Swapnil', 'Amol', 'Tushar'], 'marks': [78, 56, 90, 34]}\n"
     ]
    }
   ],
   "source": [
    "#to delete a particular column\n",
    "stud_data.popitem()\n",
    "print(stud_data)"
   ]
  },
  {
   "cell_type": "code",
   "execution_count": 36,
   "metadata": {},
   "outputs": [
    {
     "name": "stdout",
     "output_type": "stream",
     "text": [
      "{'student_name': ['Karan', 'Swapnil', 'Amol', 'Tushar']}\n"
     ]
    }
   ],
   "source": [
    "stud_data.pop('marks')\n",
    "print(stud_data)"
   ]
  },
  {
   "cell_type": "code",
   "execution_count": 37,
   "metadata": {},
   "outputs": [],
   "source": [
    "stud_data.clear()"
   ]
  },
  {
   "cell_type": "code",
   "execution_count": 38,
   "metadata": {},
   "outputs": [
    {
     "data": {
      "text/plain": [
       "{}"
      ]
     },
     "execution_count": 38,
     "metadata": {},
     "output_type": "execute_result"
    }
   ],
   "source": [
    "stud_data"
   ]
  },
  {
   "cell_type": "code",
   "execution_count": 39,
   "metadata": {},
   "outputs": [],
   "source": [
    "del stud_data"
   ]
  },
  {
   "cell_type": "code",
   "execution_count": 40,
   "metadata": {},
   "outputs": [
    {
     "name": "stdout",
     "output_type": "stream",
     "text": [
      "{'Arundhati': {'course_name': 'python', 'marks': 78}, 'Priyanka': {'course_name': 'python', 'marks': 67}, 'Anjali': {'course_name': 'python', 'marks': 87}}\n"
     ]
    }
   ],
   "source": [
    "#dictionary within dictionary\n",
    "result_data={'Arundhati':{'course_name':'python','marks':78},\n",
    "             'Priyanka':{'course_name':'python','marks':67},\n",
    "             'Anjali':{'course_name':'python','marks':87}}\n",
    "print(result_data)"
   ]
  },
  {
   "cell_type": "code",
   "execution_count": 41,
   "metadata": {},
   "outputs": [
    {
     "data": {
      "text/html": [
       "<div>\n",
       "<style scoped>\n",
       "    .dataframe tbody tr th:only-of-type {\n",
       "        vertical-align: middle;\n",
       "    }\n",
       "\n",
       "    .dataframe tbody tr th {\n",
       "        vertical-align: top;\n",
       "    }\n",
       "\n",
       "    .dataframe thead th {\n",
       "        text-align: right;\n",
       "    }\n",
       "</style>\n",
       "<table border=\"1\" class=\"dataframe\">\n",
       "  <thead>\n",
       "    <tr style=\"text-align: right;\">\n",
       "      <th></th>\n",
       "      <th>Arundhati</th>\n",
       "      <th>Priyanka</th>\n",
       "      <th>Anjali</th>\n",
       "    </tr>\n",
       "  </thead>\n",
       "  <tbody>\n",
       "    <tr>\n",
       "      <th>course_name</th>\n",
       "      <td>python</td>\n",
       "      <td>python</td>\n",
       "      <td>python</td>\n",
       "    </tr>\n",
       "    <tr>\n",
       "      <th>marks</th>\n",
       "      <td>78</td>\n",
       "      <td>67</td>\n",
       "      <td>87</td>\n",
       "    </tr>\n",
       "  </tbody>\n",
       "</table>\n",
       "</div>"
      ],
      "text/plain": [
       "            Arundhati Priyanka  Anjali\n",
       "course_name    python   python  python\n",
       "marks              78       67      87"
      ]
     },
     "execution_count": 41,
     "metadata": {},
     "output_type": "execute_result"
    }
   ],
   "source": [
    "import pandas as pd\n",
    "pd.DataFrame(result_data)"
   ]
  },
  {
   "cell_type": "code",
   "execution_count": 42,
   "metadata": {},
   "outputs": [
    {
     "data": {
      "text/plain": [
       "67"
      ]
     },
     "execution_count": 42,
     "metadata": {},
     "output_type": "execute_result"
    }
   ],
   "source": [
    "result_data['Priyanka']['marks']"
   ]
  },
  {
   "cell_type": "code",
   "execution_count": 45,
   "metadata": {},
   "outputs": [
    {
     "data": {
      "text/plain": [
       "{'course_name': 'python', 'marks': 67}"
      ]
     },
     "execution_count": 45,
     "metadata": {},
     "output_type": "execute_result"
    }
   ],
   "source": [
    "result_data.get('Priyanka','marks')"
   ]
  },
  {
   "cell_type": "code",
   "execution_count": 46,
   "metadata": {},
   "outputs": [
    {
     "name": "stdout",
     "output_type": "stream",
     "text": [
      "{'Arundhati': {'course_name': 'python', 'marks': 92}, 'Priyanka': {'course_name': 'python', 'marks': 67}, 'Anjali': {'course_name': 'python', 'marks': 87}}\n"
     ]
    }
   ],
   "source": [
    "result_data['Arundhati']['marks']=92\n",
    "print(result_data)"
   ]
  },
  {
   "cell_type": "code",
   "execution_count": 47,
   "metadata": {},
   "outputs": [
    {
     "name": "stdout",
     "output_type": "stream",
     "text": [
      "{'Karan': {'course_name': 'python', 'marks': 85}, 'Pinki': {'course_name': 'python', 'marks': 73}, 'Snehal': {'course_name': 'python', 'marks': 89}}\n"
     ]
    }
   ],
   "source": [
    "result_data_new={'Karan':{'course_name':'python','marks':85},\n",
    "             'Pinki':{'course_name':'python','marks':73},\n",
    "             'Snehal':{'course_name':'python','marks':89}}\n",
    "print(result_data_new)"
   ]
  },
  {
   "cell_type": "code",
   "execution_count": 48,
   "metadata": {},
   "outputs": [
    {
     "name": "stdout",
     "output_type": "stream",
     "text": [
      "{'Arundhati': {'course_name': 'python', 'marks': 92}, 'Priyanka': {'course_name': 'python', 'marks': 67}, 'Anjali': {'course_name': 'python', 'marks': 87}, 'Karan': {'course_name': 'python', 'marks': 85}, 'Pinki': {'course_name': 'python', 'marks': 73}, 'Snehal': {'course_name': 'python', 'marks': 89}}\n"
     ]
    }
   ],
   "source": [
    "#method 1 =>to add records into existing dictionary\n",
    "result_data.update(result_data_new)\n",
    "print(result_data)"
   ]
  },
  {
   "cell_type": "code",
   "execution_count": 49,
   "metadata": {},
   "outputs": [
    {
     "data": {
      "text/plain": [
       "{'Arundhati': {'course_name': 'python', 'marks': 92},\n",
       " 'Priyanka': {'course_name': 'python', 'marks': 67},\n",
       " 'Anjali': {'course_name': 'python', 'marks': 87},\n",
       " 'Karan': {'course_name': 'python', 'marks': 85},\n",
       " 'Pinki': {'course_name': 'python', 'marks': 73},\n",
       " 'Snehal': {'course_name': 'python', 'marks': 89},\n",
       " 'Shruti': {'course_name': 'Data Science', 'marks': 93}}"
      ]
     },
     "execution_count": 49,
     "metadata": {},
     "output_type": "execute_result"
    }
   ],
   "source": [
    "#method 2\n",
    "result_data['Shruti']={}\n",
    "result_data['Shruti']['course_name']='Data Science'\n",
    "result_data['Shruti']['marks']=93\n",
    "result_data"
   ]
  },
  {
   "cell_type": "code",
   "execution_count": 52,
   "metadata": {},
   "outputs": [
    {
     "name": "stdout",
     "output_type": "stream",
     "text": [
      "OrderedDict({'ravi': '10', 'rajnish': '9', 'sanjeev': '15', 'yash': '2', 'suraj': '32'})\n"
     ]
    }
   ],
   "source": [
    "\n",
    "from collections import OrderedDict\n",
    " \n",
    "x = {'ravi': '10', 'rajnish': '9',\n",
    "        'sanjeev': '15', 'yash': '2', 'suraj': '32'}\n",
    "dict1 = OrderedDict(x)\n",
    "print(dict1)"
   ]
  },
  {
   "cell_type": "code",
   "execution_count": null,
   "metadata": {},
   "outputs": [],
   "source": []
  }
 ],
 "metadata": {
  "kernelspec": {
   "display_name": "Python 3",
   "language": "python",
   "name": "python3"
  },
  "language_info": {
   "codemirror_mode": {
    "name": "ipython",
    "version": 3
   },
   "file_extension": ".py",
   "mimetype": "text/x-python",
   "name": "python",
   "nbconvert_exporter": "python",
   "pygments_lexer": "ipython3",
   "version": "3.12.2"
  }
 },
 "nbformat": 4,
 "nbformat_minor": 2
}
