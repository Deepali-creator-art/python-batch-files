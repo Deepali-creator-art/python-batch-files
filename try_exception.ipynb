{
 "cells": [
  {
   "cell_type": "code",
   "execution_count": 1,
   "metadata": {},
   "outputs": [
    {
     "ename": "ZeroDivisionError",
     "evalue": "division by zero",
     "output_type": "error",
     "traceback": [
      "\u001b[1;31m---------------------------------------------------------------------------\u001b[0m",
      "\u001b[1;31mZeroDivisionError\u001b[0m                         Traceback (most recent call last)",
      "Cell \u001b[1;32mIn[1], line 3\u001b[0m\n\u001b[0;32m      1\u001b[0m a\u001b[38;5;241m=\u001b[39m\u001b[38;5;241m10\u001b[39m\n\u001b[0;32m      2\u001b[0m b\u001b[38;5;241m=\u001b[39m\u001b[38;5;241m0\u001b[39m\n\u001b[1;32m----> 3\u001b[0m \u001b[38;5;28mprint\u001b[39m(\u001b[43ma\u001b[49m\u001b[38;5;241;43m/\u001b[39;49m\u001b[43mb\u001b[49m)\n",
      "\u001b[1;31mZeroDivisionError\u001b[0m: division by zero"
     ]
    }
   ],
   "source": [
    "a=10\n",
    "b=0\n",
    "print(a/b)"
   ]
  },
  {
   "cell_type": "code",
   "execution_count": 2,
   "metadata": {},
   "outputs": [
    {
     "name": "stdout",
     "output_type": "stream",
     "text": [
      "Please take a non-zero value \n",
      "Good Morning\n"
     ]
    }
   ],
   "source": [
    "#method 1\n",
    "try:\n",
    "    a=10\n",
    "    b=0\n",
    "    print(a/b)\n",
    "except:\n",
    "    print(\"Please take a non-zero value \")\n",
    "print(\"Good Morning\")"
   ]
  },
  {
   "cell_type": "code",
   "execution_count": 4,
   "metadata": {},
   "outputs": [
    {
     "name": "stdout",
     "output_type": "stream",
     "text": [
      "Exception error division by zero\n",
      "Good Morning\n"
     ]
    }
   ],
   "source": [
    "#method 2\n",
    "import sys\n",
    "try:\n",
    "    a=10\n",
    "    b=0\n",
    "    print(a/b)\n",
    "except:\n",
    "    print(\"Exception error\",sys.exc_info()[1])\n",
    "print(\"Good Morning\")"
   ]
  },
  {
   "cell_type": "code",
   "execution_count": 5,
   "metadata": {},
   "outputs": [
    {
     "name": "stdout",
     "output_type": "stream",
     "text": [
      "Please take a non-zero value\n",
      "Good Morning\n"
     ]
    }
   ],
   "source": [
    "#method 3\n",
    "try:\n",
    "    a=10\n",
    "    b=0\n",
    "    print(a/b)\n",
    "except ZeroDivisionError:\n",
    "    print(\"Please take a non-zero value\")\n",
    "print(\"Good Morning\")"
   ]
  },
  {
   "cell_type": "code",
   "execution_count": 6,
   "metadata": {},
   "outputs": [
    {
     "name": "stdout",
     "output_type": "stream",
     "text": [
      "division by zero\n",
      "Good Morning\n"
     ]
    }
   ],
   "source": [
    "#method 4\n",
    "try:\n",
    "    a=10\n",
    "    b=0\n",
    "    print(a/b)\n",
    "except ZeroDivisionError as ze:\n",
    "    print(ze)\n",
    "print(\"Good Morning\")"
   ]
  },
  {
   "cell_type": "code",
   "execution_count": 10,
   "metadata": {},
   "outputs": [
    {
     "name": "stdout",
     "output_type": "stream",
     "text": [
      "Division result is 5.22\n",
      "Division result is 34.29\n",
      "Exception error is unsupported operand type(s) for /: 'int' and 'str'\n",
      "Exception error is division by zero\n",
      "Division result is 24.00\n"
     ]
    }
   ],
   "source": [
    "import sys\n",
    "x=(23,3.5,'python',0,5)\n",
    "number=int(input(\"Enter the number\"))\n",
    "for i in x:\n",
    "    try:\n",
    "        result=number/i\n",
    "        print(\"Division result is %.2f\" %result)\n",
    "    except:\n",
    "        print(\"Exception error is\",sys.exc_info()[1])\n",
    "        "
   ]
  },
  {
   "cell_type": "code",
   "execution_count": 17,
   "metadata": {},
   "outputs": [
    {
     "name": "stdout",
     "output_type": "stream",
     "text": [
      "\n",
      "111111\n",
      "111111\n"
     ]
    }
   ],
   "source": [
    "import sys\n",
    "try:\n",
    "    obj=open('f1.txt','r')\n",
    "    print(obj.read())\n",
    "except:\n",
    "    print(\"Exception error\",sys.exc_info()[1])"
   ]
  },
  {
   "cell_type": "code",
   "execution_count": 19,
   "metadata": {},
   "outputs": [
    {
     "name": "stdout",
     "output_type": "stream",
     "text": [
      "Please enter 10 digits number only\n"
     ]
    }
   ],
   "source": [
    "mobile_number=input(\"Enter the mobile number\")\n",
    "try:\n",
    "    assert len(mobile_number)==10\n",
    "    print(\"Valid mobile number\")\n",
    "except:\n",
    "    print(\"Please enter 10 digits number only\")"
   ]
  },
  {
   "cell_type": "code",
   "execution_count": 21,
   "metadata": {},
   "outputs": [
    {
     "name": "stdout",
     "output_type": "stream",
     "text": [
      "Welcome to poonam\n"
     ]
    }
   ],
   "source": [
    "user_name=input(\"Enter the user name\")\n",
    "try:\n",
    "    assert user_name.isalpha()\n",
    "    print(f\"Welcome to {user_name}\")\n",
    "except:\n",
    "    print(\"Please user name should contains only alphabets\")"
   ]
  }
 ],
 "metadata": {
  "kernelspec": {
   "display_name": "Python 3",
   "language": "python",
   "name": "python3"
  },
  "language_info": {
   "codemirror_mode": {
    "name": "ipython",
    "version": 3
   },
   "file_extension": ".py",
   "mimetype": "text/x-python",
   "name": "python",
   "nbconvert_exporter": "python",
   "pygments_lexer": "ipython3",
   "version": "3.12.4"
  }
 },
 "nbformat": 4,
 "nbformat_minor": 2
}
