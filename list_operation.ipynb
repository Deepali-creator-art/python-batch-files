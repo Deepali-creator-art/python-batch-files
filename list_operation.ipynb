{
 "cells": [
  {
   "cell_type": "code",
   "execution_count": 41,
   "metadata": {},
   "outputs": [
    {
     "name": "stdout",
     "output_type": "stream",
     "text": [
      "<class 'list'>\n"
     ]
    }
   ],
   "source": [
    "#create an empty list\n",
    "x=[]\n",
    "print(type(x))"
   ]
  },
  {
   "cell_type": "code",
   "execution_count": 42,
   "metadata": {},
   "outputs": [
    {
     "name": "stdout",
     "output_type": "stream",
     "text": [
      "<class 'list'>\n"
     ]
    }
   ],
   "source": [
    "y=list()\n",
    "print(type(y))"
   ]
  },
  {
   "cell_type": "code",
   "execution_count": 43,
   "metadata": {},
   "outputs": [
    {
     "name": "stdout",
     "output_type": "stream",
     "text": [
      "['Priyanka', 'Aastha', 'Chirayu']\n"
     ]
    }
   ],
   "source": [
    "student_name=['Priyanka','Aastha','Chirayu']\n",
    "print(student_name)"
   ]
  },
  {
   "cell_type": "code",
   "execution_count": 44,
   "metadata": {},
   "outputs": [],
   "source": [
    "#add students into existing list\n",
    "student_name.append('Neha') #called function"
   ]
  },
  {
   "cell_type": "code",
   "execution_count": 45,
   "metadata": {},
   "outputs": [
    {
     "data": {
      "text/plain": [
       "['Priyanka', 'Aastha', 'Chirayu', 'Neha']"
      ]
     },
     "execution_count": 45,
     "metadata": {},
     "output_type": "execute_result"
    }
   ],
   "source": [
    "student_name"
   ]
  },
  {
   "cell_type": "code",
   "execution_count": 46,
   "metadata": {},
   "outputs": [
    {
     "name": "stdout",
     "output_type": "stream",
     "text": [
      "['Priyanka', 'Aastha', 'Chirayu', 'Neha', 'Shruti', 'Mudit', 'Deepak']\n"
     ]
    }
   ],
   "source": [
    "student_name.extend(['Shruti','Mudit','Deepak'])\n",
    "print(student_name)"
   ]
  },
  {
   "cell_type": "code",
   "execution_count": 47,
   "metadata": {},
   "outputs": [
    {
     "name": "stdout",
     "output_type": "stream",
     "text": [
      "['Priyanka', 'Aastha', 'Chirayu', 'Madhura', 'Neha', 'Shruti', 'Mudit', 'Deepak']\n"
     ]
    }
   ],
   "source": [
    "student_name.insert(3,'Madhura')\n",
    "print(student_name)"
   ]
  },
  {
   "cell_type": "code",
   "execution_count": 48,
   "metadata": {},
   "outputs": [
    {
     "data": {
      "text/plain": [
       "'Priyanka'"
      ]
     },
     "execution_count": 48,
     "metadata": {},
     "output_type": "execute_result"
    }
   ],
   "source": [
    "#access only one element\n",
    "student_name[0]"
   ]
  },
  {
   "cell_type": "code",
   "execution_count": 49,
   "metadata": {},
   "outputs": [
    {
     "data": {
      "text/plain": [
       "'Aastha'"
      ]
     },
     "execution_count": 49,
     "metadata": {},
     "output_type": "execute_result"
    }
   ],
   "source": [
    "student_name[1]"
   ]
  },
  {
   "cell_type": "code",
   "execution_count": 50,
   "metadata": {},
   "outputs": [
    {
     "data": {
      "text/plain": [
       "'Neha'"
      ]
     },
     "execution_count": 50,
     "metadata": {},
     "output_type": "execute_result"
    }
   ],
   "source": [
    "student_name[4]"
   ]
  },
  {
   "cell_type": "code",
   "execution_count": 51,
   "metadata": {},
   "outputs": [
    {
     "name": "stdout",
     "output_type": "stream",
     "text": [
      "['Deepak', 'Mudit', 'Shruti', 'Neha', 'Madhura', 'Chirayu', 'Aastha', 'Priyanka']\n"
     ]
    }
   ],
   "source": [
    "print(student_name[::-1])"
   ]
  },
  {
   "cell_type": "code",
   "execution_count": 52,
   "metadata": {},
   "outputs": [
    {
     "data": {
      "text/plain": [
       "['Priyanka', 'Chirayu', 'Neha', 'Mudit']"
      ]
     },
     "execution_count": 52,
     "metadata": {},
     "output_type": "execute_result"
    }
   ],
   "source": [
    "#access even index number element \n",
    "student_name[::2]"
   ]
  },
  {
   "cell_type": "code",
   "execution_count": 53,
   "metadata": {},
   "outputs": [
    {
     "data": {
      "text/plain": [
       "['Aastha', 'Madhura', 'Shruti', 'Deepak']"
      ]
     },
     "execution_count": 53,
     "metadata": {},
     "output_type": "execute_result"
    }
   ],
   "source": [
    "student_name[1::2]"
   ]
  },
  {
   "cell_type": "code",
   "execution_count": 54,
   "metadata": {},
   "outputs": [
    {
     "name": "stdout",
     "output_type": "stream",
     "text": [
      "['Priyanka', 'Aastha', 'Chirayu', 'Madhura', 'Neha', 'Shruti', 'Mudit', 'Deepak']\n"
     ]
    }
   ],
   "source": [
    "print(student_name)"
   ]
  },
  {
   "cell_type": "code",
   "execution_count": 55,
   "metadata": {},
   "outputs": [],
   "source": [
    "#modify list element\n",
    "student_name[3]='Pratiksha'"
   ]
  },
  {
   "cell_type": "code",
   "execution_count": 56,
   "metadata": {},
   "outputs": [
    {
     "name": "stdout",
     "output_type": "stream",
     "text": [
      "['Priyanka', 'Aastha', 'Chirayu', 'Pratiksha', 'Neha', 'Shruti', 'Mudit', 'Deepak']\n"
     ]
    }
   ],
   "source": [
    "print(student_name)"
   ]
  },
  {
   "cell_type": "code",
   "execution_count": 57,
   "metadata": {},
   "outputs": [
    {
     "name": "stdout",
     "output_type": "stream",
     "text": [
      "['Priyanka', 'Aastha', 'Chirayu', 'Pratiksha', 'Trupti', 'Vikram', 'Sonal', 'Deepak']\n"
     ]
    }
   ],
   "source": [
    "student_name[4:7]=['Trupti','Vikram','Sonal']\n",
    "print(student_name)"
   ]
  },
  {
   "cell_type": "code",
   "execution_count": 58,
   "metadata": {},
   "outputs": [
    {
     "name": "stdout",
     "output_type": "stream",
     "text": [
      "['Deepak', 'Aastha', 'Chirayu', 'Pratiksha', 'Trupti', 'Vikram', 'Sonal', 'Priyanka']\n"
     ]
    }
   ],
   "source": [
    "temp=student_name[0]\n",
    "student_name[0]=student_name[-1]\n",
    "student_name[-1]=temp\n",
    "print(student_name)"
   ]
  },
  {
   "cell_type": "code",
   "execution_count": 59,
   "metadata": {},
   "outputs": [
    {
     "name": "stdout",
     "output_type": "stream",
     "text": [
      "['Deepak', 'Aastha', 'Chirayu', 'Pratiksha', 'Trupti', 'Vikram', 'Sonal']\n"
     ]
    }
   ],
   "source": [
    "#to delete list elements\n",
    "student_name.pop()\n",
    "print(student_name)"
   ]
  },
  {
   "cell_type": "code",
   "execution_count": 60,
   "metadata": {},
   "outputs": [
    {
     "name": "stdout",
     "output_type": "stream",
     "text": [
      "['Deepak', 'Aastha', 'Chirayu', 'Pratiksha', 'Vikram', 'Sonal']\n"
     ]
    }
   ],
   "source": [
    "student_name.remove('Trupti')\n",
    "print(student_name)"
   ]
  },
  {
   "cell_type": "code",
   "execution_count": 61,
   "metadata": {},
   "outputs": [
    {
     "name": "stdout",
     "output_type": "stream",
     "text": [
      "['Sonal', 'Vikram', 'Pratiksha', 'Chirayu', 'Aastha', 'Deepak']\n"
     ]
    }
   ],
   "source": [
    "student_name.reverse()#student_name[::-1]\n",
    "print(student_name)"
   ]
  },
  {
   "cell_type": "code",
   "execution_count": 62,
   "metadata": {},
   "outputs": [
    {
     "name": "stdout",
     "output_type": "stream",
     "text": [
      "['Aastha', 'Chirayu', 'Deepak', 'Pratiksha', 'Sonal', 'Vikram']\n"
     ]
    }
   ],
   "source": [
    "student_name.sort() #ascending order\n",
    "print(student_name)"
   ]
  },
  {
   "cell_type": "code",
   "execution_count": 63,
   "metadata": {},
   "outputs": [
    {
     "data": {
      "text/plain": [
       "112"
      ]
     },
     "execution_count": 63,
     "metadata": {},
     "output_type": "execute_result"
    }
   ],
   "source": [
    "#ord() returns ascii value of given character\n",
    "ord('p')"
   ]
  },
  {
   "cell_type": "code",
   "execution_count": 64,
   "metadata": {},
   "outputs": [
    {
     "data": {
      "text/plain": [
       "80"
      ]
     },
     "execution_count": 64,
     "metadata": {},
     "output_type": "execute_result"
    }
   ],
   "source": [
    "ord('P')"
   ]
  },
  {
   "cell_type": "code",
   "execution_count": 65,
   "metadata": {},
   "outputs": [
    {
     "name": "stdout",
     "output_type": "stream",
     "text": [
      "['Aastha', 'Chirayu', 'Deepak', 'Pratiksha', 'Sonal', 'Vikram']\n"
     ]
    }
   ],
   "source": [
    "print(student_name)"
   ]
  },
  {
   "cell_type": "code",
   "execution_count": 66,
   "metadata": {},
   "outputs": [
    {
     "name": "stdout",
     "output_type": "stream",
     "text": [
      "['Aastha', 'Chirayu', 'Deepak', 'Pratiksha', 'Sonal', 'Vikram', 'rushabh', 'satyam']\n"
     ]
    }
   ],
   "source": [
    "student_name.extend(['rushabh','satyam'])\n",
    "student_name.sort()\n",
    "print(student_name)"
   ]
  },
  {
   "cell_type": "code",
   "execution_count": 67,
   "metadata": {},
   "outputs": [
    {
     "name": "stdout",
     "output_type": "stream",
     "text": [
      "['Aastha', 'Chirayu', 'Deepak', 'Pratiksha', 'Sonal', 'Vikram', 'rushabh', 'satyam', 'Hashamat', 'Hrishita']\n"
     ]
    }
   ],
   "source": [
    "#operator overloading\n",
    "student_name=student_name+['Hashamat','Hrishita']\n",
    "print(student_name)"
   ]
  },
  {
   "cell_type": "code",
   "execution_count": 68,
   "metadata": {},
   "outputs": [
    {
     "name": "stdout",
     "output_type": "stream",
     "text": [
      "['Hashamat', 'Hrishita', 'Aastha', 'Chirayu', 'Deepak', 'Pratiksha', 'Sonal', 'Vikram', 'rushabh', 'satyam', 'Hashamat', 'Hrishita']\n"
     ]
    }
   ],
   "source": [
    "student_name=['Hashamat','Hrishita']+student_name\n",
    "print(student_name)"
   ]
  },
  {
   "cell_type": "code",
   "execution_count": 69,
   "metadata": {},
   "outputs": [
    {
     "data": {
      "text/plain": [
       "12"
      ]
     },
     "execution_count": 69,
     "metadata": {},
     "output_type": "execute_result"
    }
   ],
   "source": [
    "len(student_name)"
   ]
  },
  {
   "cell_type": "code",
   "execution_count": 70,
   "metadata": {},
   "outputs": [
    {
     "name": "stdout",
     "output_type": "stream",
     "text": [
      "['Hashamat', 'Hrishita', 'Aastha', 'Chirayu', 'Deepak', 'Pratiksha', 'Sonal', 'Vikram', 'rushabh', 'satyam', 'Hashamat', 'Hrishita', 'Hashamat', 'Hrishita', 'Aastha', 'Chirayu', 'Deepak', 'Pratiksha', 'Sonal', 'Vikram', 'rushabh', 'satyam', 'Hashamat', 'Hrishita']\n"
     ]
    }
   ],
   "source": [
    "student_name=student_name*2\n",
    "print(student_name)\n"
   ]
  },
  {
   "cell_type": "code",
   "execution_count": 71,
   "metadata": {},
   "outputs": [
    {
     "name": "stdout",
     "output_type": "stream",
     "text": [
      "10 10\n"
     ]
    }
   ],
   "source": [
    "a=10\n",
    "b=a #assignment operator\n",
    "print(a,b)"
   ]
  },
  {
   "cell_type": "code",
   "execution_count": 73,
   "metadata": {},
   "outputs": [
    {
     "name": "stdout",
     "output_type": "stream",
     "text": [
      "Id of a 140723408816856\n",
      "Id of a 140723408816856\n"
     ]
    }
   ],
   "source": [
    "print(\"Id of a\",id(a))\n",
    "print(\"Id of a\",id(b))\n"
   ]
  },
  {
   "cell_type": "code",
   "execution_count": 76,
   "metadata": {},
   "outputs": [
    {
     "name": "stdout",
     "output_type": "stream",
     "text": [
      "Id of a 140723408817176\n",
      "Id of b 140723408817176\n"
     ]
    }
   ],
   "source": [
    "a=20\n",
    "b=20\n",
    "print(\"Id of a\",id(a))\n",
    "print(\"Id of b\",id(b))"
   ]
  },
  {
   "cell_type": "code",
   "execution_count": 79,
   "metadata": {},
   "outputs": [
    {
     "name": "stdout",
     "output_type": "stream",
     "text": [
      "Original list [10, 20, 30, 50]\n",
      "Copied list [10, 20, 30, 50]\n",
      "Original list [10, 20, 30, 50, 40, 60]\n",
      "Copied list [10, 20, 30, 50, 40, 60]\n",
      "Id of x 1987671862464\n",
      "Id of y 1987671862464\n"
     ]
    }
   ],
   "source": [
    "#deep copy\n",
    "x=[10,20,30,50]\n",
    "y=x #assignment operator\n",
    "print(\"Original list\",x)\n",
    "print(\"Copied list\",y)\n",
    "#modify x elements\n",
    "x.extend([40,60])\n",
    "print(\"Original list\",x)\n",
    "print(\"Copied list\",y)\n",
    "print(\"Id of x\",id(x))\n",
    "print(\"Id of y\",id(y))\n"
   ]
  },
  {
   "cell_type": "code",
   "execution_count": 81,
   "metadata": {},
   "outputs": [
    {
     "name": "stdout",
     "output_type": "stream",
     "text": [
      "Original list [10, 20, 30, 50]\n",
      "Copied list [10, 20, 30, 50]\n",
      "Id of x 1987672176448\n",
      "Id of y 1987672091712\n",
      "Original list [10, 20, 30, 50, 40, 60]\n",
      "Copied list [10, 20, 30, 50]\n",
      "Id of x 1987672176448\n",
      "Id of y 1987672091712\n"
     ]
    }
   ],
   "source": [
    "x=[10,20,30,50]\n",
    "y=[10,20,30,50]\n",
    "print(\"Original list\",x)\n",
    "print(\"Copied list\",y)\n",
    "print(\"Id of x\",id(x))\n",
    "print(\"Id of y\",id(y))\n",
    "#modify x elements\n",
    "x.extend([40,60])\n",
    "print(\"Original list\",x)\n",
    "print(\"Copied list\",y)\n",
    "print(\"Id of x\",id(x))\n",
    "print(\"Id of y\",id(y))"
   ]
  },
  {
   "cell_type": "code",
   "execution_count": 83,
   "metadata": {},
   "outputs": [
    {
     "name": "stdout",
     "output_type": "stream",
     "text": [
      "Original list [10, 20, 30, 50]\n",
      "Copied list [10, 20, 30, 50]\n",
      "Id of x 1987672155712\n",
      "Id of y 1987672078208\n",
      "Original list [10, 20, 30, 50, 40, 60]\n",
      "Copied list [10, 20, 30, 50]\n"
     ]
    }
   ],
   "source": [
    "#shallow copy\n",
    "x=[10,20,30,50]\n",
    "y=x.copy()\n",
    "print(\"Original list\",x)\n",
    "print(\"Copied list\",y)\n",
    "print(\"Id of x\",id(x))\n",
    "print(\"Id of y\",id(y))\n",
    "#modify x elements\n",
    "x.extend([40,60])\n",
    "print(\"Original list\",x)\n",
    "print(\"Copied list\",y)\n"
   ]
  },
  {
   "cell_type": "code",
   "execution_count": 84,
   "metadata": {},
   "outputs": [
    {
     "data": {
      "text/plain": [
       "4"
      ]
     },
     "execution_count": 84,
     "metadata": {},
     "output_type": "execute_result"
    }
   ],
   "source": [
    "numbers=[10,30,40,20,40,30,30,30,70,80]\n",
    "numbers.count(30)"
   ]
  },
  {
   "cell_type": "code",
   "execution_count": 85,
   "metadata": {},
   "outputs": [
    {
     "data": {
      "text/plain": [
       "Counter({30: 4, 40: 2, 10: 1, 20: 1, 70: 1, 80: 1})"
      ]
     },
     "execution_count": 85,
     "metadata": {},
     "output_type": "execute_result"
    }
   ],
   "source": [
    "from collections import Counter\n",
    "Counter(numbers)"
   ]
  },
  {
   "cell_type": "code",
   "execution_count": 86,
   "metadata": {},
   "outputs": [
    {
     "data": {
      "text/plain": [
       "Counter({'S': 1, 'w': 1, 'a': 1, 'p': 1, 'n': 1, 'i': 1, 'l': 1})"
      ]
     },
     "execution_count": 86,
     "metadata": {},
     "output_type": "execute_result"
    }
   ],
   "source": [
    "str1='Swapnil'\n",
    "from collections import Counter\n",
    "Counter(str1)"
   ]
  },
  {
   "cell_type": "code",
   "execution_count": 87,
   "metadata": {},
   "outputs": [
    {
     "name": "stdout",
     "output_type": "stream",
     "text": [
      "<class 'tuple'>\n"
     ]
    }
   ],
   "source": [
    "fruits=('apple','banana','mango','pineapple')\n",
    "print(type(fruits))    "
   ]
  },
  {
   "cell_type": "code",
   "execution_count": 88,
   "metadata": {},
   "outputs": [
    {
     "data": {
      "text/plain": [
       "1"
      ]
     },
     "execution_count": 88,
     "metadata": {},
     "output_type": "execute_result"
    }
   ],
   "source": [
    "fruits.count('apple')"
   ]
  },
  {
   "cell_type": "code",
   "execution_count": 89,
   "metadata": {},
   "outputs": [
    {
     "data": {
      "text/plain": [
       "Counter({'apple': 1, 'banana': 1, 'mango': 1, 'pineapple': 1})"
      ]
     },
     "execution_count": 89,
     "metadata": {},
     "output_type": "execute_result"
    }
   ],
   "source": [
    "from collections import Counter\n",
    "Counter(fruits)"
   ]
  },
  {
   "cell_type": "code",
   "execution_count": 90,
   "metadata": {},
   "outputs": [
    {
     "data": {
      "text/plain": [
       "2"
      ]
     },
     "execution_count": 90,
     "metadata": {},
     "output_type": "execute_result"
    }
   ],
   "source": [
    "fruits.index('mango')"
   ]
  },
  {
   "cell_type": "code",
   "execution_count": 91,
   "metadata": {},
   "outputs": [
    {
     "ename": "TypeError",
     "evalue": "'tuple' object does not support item assignment",
     "output_type": "error",
     "traceback": [
      "\u001b[1;31m---------------------------------------------------------------------------\u001b[0m",
      "\u001b[1;31mTypeError\u001b[0m                                 Traceback (most recent call last)",
      "Cell \u001b[1;32mIn[91], line 1\u001b[0m\n\u001b[1;32m----> 1\u001b[0m \u001b[43mfruits\u001b[49m\u001b[43m[\u001b[49m\u001b[38;5;241;43m2\u001b[39;49m\u001b[43m]\u001b[49m\u001b[38;5;241m=\u001b[39m\u001b[38;5;124m'\u001b[39m\u001b[38;5;124mgrapes\u001b[39m\u001b[38;5;124m'\u001b[39m\n",
      "\u001b[1;31mTypeError\u001b[0m: 'tuple' object does not support item assignment"
     ]
    }
   ],
   "source": [
    "fruits[2]='grapes'"
   ]
  },
  {
   "cell_type": "code",
   "execution_count": 93,
   "metadata": {},
   "outputs": [
    {
     "name": "stdout",
     "output_type": "stream",
     "text": [
      "(11, 12, 21, 23, 43, 45, 78, 98)\n"
     ]
    }
   ],
   "source": [
    "t1=(11,45,23,21,12,78,98,43)\n",
    "sorted_items=sorted(t1)\n",
    "print(tuple(sorted_items))\n"
   ]
  },
  {
   "cell_type": "code",
   "execution_count": 94,
   "metadata": {},
   "outputs": [
    {
     "data": {
      "text/plain": [
       "['h', 'n', 'o', 'p', 't', 'y']"
      ]
     },
     "execution_count": 94,
     "metadata": {},
     "output_type": "execute_result"
    }
   ],
   "source": [
    "str1='python'\n",
    "sorted(str1)"
   ]
  }
 ],
 "metadata": {
  "kernelspec": {
   "display_name": "Python 3",
   "language": "python",
   "name": "python3"
  },
  "language_info": {
   "codemirror_mode": {
    "name": "ipython",
    "version": 3
   },
   "file_extension": ".py",
   "mimetype": "text/x-python",
   "name": "python",
   "nbconvert_exporter": "python",
   "pygments_lexer": "ipython3",
   "version": "3.12.2"
  }
 },
 "nbformat": 4,
 "nbformat_minor": 2
}
