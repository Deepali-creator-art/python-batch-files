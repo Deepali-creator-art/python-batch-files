{
 "cells": [
  {
   "cell_type": "code",
   "execution_count": 17,
   "metadata": {},
   "outputs": [
    {
     "name": "stdout",
     "output_type": "stream",
     "text": [
      "<class 'set'>\n"
     ]
    }
   ],
   "source": [
    "#To create an empty set.\n",
    "x=set()\n",
    "print(type(x))"
   ]
  },
  {
   "cell_type": "code",
   "execution_count": 18,
   "metadata": {},
   "outputs": [
    {
     "name": "stdout",
     "output_type": "stream",
     "text": [
      "<class 'dict'>\n"
     ]
    }
   ],
   "source": [
    "y={}\n",
    "print(type(y))"
   ]
  },
  {
   "cell_type": "code",
   "execution_count": 19,
   "metadata": {},
   "outputs": [
    {
     "name": "stdout",
     "output_type": "stream",
     "text": [
      "<class 'set'>\n"
     ]
    }
   ],
   "source": [
    "z={2}\n",
    "print(type(z))"
   ]
  },
  {
   "cell_type": "code",
   "execution_count": 20,
   "metadata": {},
   "outputs": [
    {
     "name": "stdout",
     "output_type": "stream",
     "text": [
      "{33, 22, 55, 11, 44}\n"
     ]
    }
   ],
   "source": [
    "p={11,22,33,44,55,33,55}\n",
    "print(p)"
   ]
  },
  {
   "cell_type": "code",
   "execution_count": 21,
   "metadata": {},
   "outputs": [
    {
     "data": {
      "text/plain": [
       "5"
      ]
     },
     "execution_count": 21,
     "metadata": {},
     "output_type": "execute_result"
    }
   ],
   "source": [
    "p={11,22,33,44,55,33,55}\n",
    "len(p)"
   ]
  },
  {
   "cell_type": "code",
   "execution_count": 22,
   "metadata": {},
   "outputs": [
    {
     "name": "stdout",
     "output_type": "stream",
     "text": [
      "{'notebook', 'book', 'pen', 'mobile'}\n"
     ]
    }
   ],
   "source": [
    "items={'pen','notebook','book','mobile'}\n",
    "print(items)"
   ]
  },
  {
   "cell_type": "code",
   "execution_count": 23,
   "metadata": {},
   "outputs": [
    {
     "name": "stdout",
     "output_type": "stream",
     "text": [
      "{'mobile', 'book', 'laptop', 'notebook', 'pen'}\n"
     ]
    }
   ],
   "source": [
    "#to add elements into a set. only one element\n",
    "items.add('laptop')\n",
    "print(items)"
   ]
  },
  {
   "cell_type": "code",
   "execution_count": 24,
   "metadata": {},
   "outputs": [
    {
     "data": {
      "text/plain": [
       "{'bag', 'book', 'laptop', 'mobile', 'mouse', 'notebook', 'pen'}"
      ]
     },
     "execution_count": 24,
     "metadata": {},
     "output_type": "execute_result"
    }
   ],
   "source": [
    "#to add more than one elements update()\n",
    "items.update({'mouse','bag'})\n",
    "items"
   ]
  },
  {
   "cell_type": "code",
   "execution_count": 25,
   "metadata": {},
   "outputs": [
    {
     "name": "stdout",
     "output_type": "stream",
     "text": [
      "{'book', 'mouse', 'bag', 'laptop', 'notebook', 'pen'}\n"
     ]
    }
   ],
   "source": [
    "#to delete elements from a set\n",
    "items.pop()\n",
    "print(items)"
   ]
  },
  {
   "cell_type": "code",
   "execution_count": 28,
   "metadata": {},
   "outputs": [
    {
     "ename": "KeyError",
     "evalue": "'bag'",
     "output_type": "error",
     "traceback": [
      "\u001b[1;31m---------------------------------------------------------------------------\u001b[0m",
      "\u001b[1;31mKeyError\u001b[0m                                  Traceback (most recent call last)",
      "Cell \u001b[1;32mIn[28], line 1\u001b[0m\n\u001b[1;32m----> 1\u001b[0m \u001b[43mitems\u001b[49m\u001b[38;5;241;43m.\u001b[39;49m\u001b[43mremove\u001b[49m\u001b[43m(\u001b[49m\u001b[38;5;124;43m'\u001b[39;49m\u001b[38;5;124;43mbag\u001b[39;49m\u001b[38;5;124;43m'\u001b[39;49m\u001b[43m)\u001b[49m\n\u001b[0;32m      2\u001b[0m items\n",
      "\u001b[1;31mKeyError\u001b[0m: 'bag'"
     ]
    }
   ],
   "source": [
    "items.remove('bag')\n",
    "items"
   ]
  },
  {
   "cell_type": "code",
   "execution_count": 31,
   "metadata": {},
   "outputs": [
    {
     "name": "stdout",
     "output_type": "stream",
     "text": [
      "{'book', 'mouse', 'notebook', 'pen'}\n"
     ]
    }
   ],
   "source": [
    "items.discard('laptop')\n",
    "print(items)"
   ]
  },
  {
   "cell_type": "code",
   "execution_count": 32,
   "metadata": {},
   "outputs": [
    {
     "name": "stdout",
     "output_type": "stream",
     "text": [
      "Union of two sets {2, 3, 4, 5, 6, 7, 8, 9}\n",
      "Union of two sets {2, 3, 4, 5, 6, 7, 8, 9}\n",
      "Union of two sets {2, 3, 4, 5, 6, 7, 8, 9}\n"
     ]
    }
   ],
   "source": [
    "#mathematical operations on set\n",
    "s1={2,3,4,8,7}\n",
    "s2={5,6,8,7,9}\n",
    "#union operation\n",
    "print(\"Union of two sets\",s1.union(s2))\n",
    "print(\"Union of two sets\",s2.union(s1))\n",
    "print(\"Union of two sets\",s1|s2) # | (or) operator\n"
   ]
  },
  {
   "cell_type": "code",
   "execution_count": 34,
   "metadata": {},
   "outputs": [
    {
     "name": "stdout",
     "output_type": "stream",
     "text": [
      "Intersection of two sets {8, 7}\n",
      "Intersection of two sets {8, 7}\n",
      "Intersection of two sets {8, 7}\n"
     ]
    }
   ],
   "source": [
    "s1={2,3,4,8,7}\n",
    "s2={5,6,8,7,9}\n",
    "#intersection operation returns common elements\n",
    "print(\"Intersection of two sets\",s1.intersection(s2)) \n",
    "print(\"Intersection of two sets\",s2.intersection(s1))\n",
    "print(\"Intersection of two sets\",s1&s2) # & (and) operator"
   ]
  },
  {
   "cell_type": "code",
   "execution_count": 35,
   "metadata": {},
   "outputs": [
    {
     "name": "stdout",
     "output_type": "stream",
     "text": [
      "symmetric_difference of two sets {2, 3, 4, 5, 6, 9}\n",
      "symmetric_difference of two sets {2, 3, 4, 5, 6, 9}\n",
      "symmetric_difference of two sets {2, 3, 4, 5, 6, 9}\n"
     ]
    }
   ],
   "source": [
    "s1={2,3,4,8,7}\n",
    "s2={5,6,8,7,9}\n",
    "#symmentric difference operation returns uncommon elements\n",
    "print(\"symmetric_difference of two sets\",s1.symmetric_difference(s2)) \n",
    "print(\"symmetric_difference of two sets\",s2.symmetric_difference(s1))\n",
    "print(\"symmetric_difference of two sets\",s1^s2) # ^ (ex-or) operator"
   ]
  },
  {
   "cell_type": "code",
   "execution_count": 36,
   "metadata": {},
   "outputs": [
    {
     "name": "stdout",
     "output_type": "stream",
     "text": [
      "Difference of two sets {2, 3, 4}\n",
      "Difference of two sets {9, 5, 6}\n",
      "Difference of two sets {2, 3, 4}\n",
      "Difference of two sets {9, 5, 6}\n"
     ]
    }
   ],
   "source": [
    "s1={2,3,4,8,7}\n",
    "s2={5,6,8,7,9}\n",
    "#difference operation \n",
    "print(\"Difference of two sets\",s1.difference(s2)) \n",
    "print(\"Difference of two sets\",s2.difference(s1))\n",
    "print(\"Difference of two sets\",s1-s2) # - operator\n",
    "print(\"Difference of two sets\",s2-s1) # - operator"
   ]
  },
  {
   "cell_type": "code",
   "execution_count": 39,
   "metadata": {},
   "outputs": [
    {
     "name": "stdout",
     "output_type": "stream",
     "text": [
      "Given numers list [101, 202, 303, 101, 404, 505, 404]\n",
      "Convert list into set {101, 202, 303, 404, 505}\n",
      "Updated list is [101, 202, 303, 404, 505]\n"
     ]
    }
   ],
   "source": [
    "#To remove duplicates elements from a given list.\n",
    "numbers=[101,202,303,101,404,505,404]\n",
    "print(\"Given numers list\",numbers)\n",
    "#type conversion \n",
    "s1=set(numbers) \n",
    "print(\"Convert list into set\",s1)\n",
    "#type conversion\n",
    "unique_numbers=list(s1) #convert set into list\n",
    "print(\"Updated list is\",unique_numbers)"
   ]
  },
  {
   "cell_type": "code",
   "execution_count": 44,
   "metadata": {},
   "outputs": [
    {
     "name": "stdout",
     "output_type": "stream",
     "text": [
      "Convert string into a set {'a', 's', 'o', 'n', 'i', 'l'}\n",
      "Convert string into a set {'w', 'a', 's', 'j', 'n', 'i', 'r', 'l'}\n",
      "Common alphabets are {'a', 's', 'n', 'i', 'l'}\n",
      "UnCommon alphabets are {'w', 'o', 'j', 'r'}\n"
     ]
    }
   ],
   "source": [
    "#To find common and uncommon alphabets from a given strings.\n",
    "x='sonali'\n",
    "y='swaranjali'\n",
    "#type conversion\n",
    "s1=set(x)\n",
    "print(\"Convert string into a set\",s1)\n",
    "s2=set(y)\n",
    "print(\"Convert string into a set\",s2)\n",
    "#common alphabets\n",
    "print(\"Common alphabets are\",s1.intersection(s2))\n",
    "#uncommon aplhabets\n",
    "print(\"UnCommon alphabets are\",s1.symmetric_difference(s2))"
   ]
  },
  {
   "cell_type": "code",
   "execution_count": 45,
   "metadata": {},
   "outputs": [
    {
     "name": "stdout",
     "output_type": "stream",
     "text": [
      "<class 'frozenset'>\n"
     ]
    }
   ],
   "source": [
    "#to create empty frozenset.\n",
    "f1=frozenset()\n",
    "print(type(f1))\n"
   ]
  },
  {
   "cell_type": "code",
   "execution_count": 46,
   "metadata": {},
   "outputs": [
    {
     "name": "stdout",
     "output_type": "stream",
     "text": [
      "frozenset({2, 4, 6, 8, 10, 12})\n"
     ]
    }
   ],
   "source": [
    "f1=frozenset({2,4,6,8,10,12,12,6})\n",
    "print(f1)\n"
   ]
  },
  {
   "cell_type": "code",
   "execution_count": 47,
   "metadata": {},
   "outputs": [
    {
     "data": {
      "text/plain": [
       "True"
      ]
     },
     "execution_count": 47,
     "metadata": {},
     "output_type": "execute_result"
    }
   ],
   "source": [
    "f1=frozenset({2,4,6,8,10,12,12,6})\n",
    "f2=frozenset({2,4,6,8})\n",
    "f2.issubset(f1)"
   ]
  },
  {
   "cell_type": "code",
   "execution_count": 48,
   "metadata": {},
   "outputs": [
    {
     "data": {
      "text/plain": [
       "True"
      ]
     },
     "execution_count": 48,
     "metadata": {},
     "output_type": "execute_result"
    }
   ],
   "source": [
    "f1.issuperset(f2)"
   ]
  },
  {
   "cell_type": "code",
   "execution_count": null,
   "metadata": {},
   "outputs": [],
   "source": []
  }
 ],
 "metadata": {
  "kernelspec": {
   "display_name": "Python 3",
   "language": "python",
   "name": "python3"
  },
  "language_info": {
   "codemirror_mode": {
    "name": "ipython",
    "version": 3
   },
   "file_extension": ".py",
   "mimetype": "text/x-python",
   "name": "python",
   "nbconvert_exporter": "python",
   "pygments_lexer": "ipython3",
   "version": "3.12.2"
  }
 },
 "nbformat": 4,
 "nbformat_minor": 2
}
