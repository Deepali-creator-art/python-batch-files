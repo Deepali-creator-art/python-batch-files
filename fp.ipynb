{
 "cells": [
  {
   "cell_type": "code",
   "execution_count": 2,
   "metadata": {},
   "outputs": [
    {
     "name": "stdout",
     "output_type": "stream",
     "text": [
      "abcdefg\n",
      "hijklmn\n",
      "opqrst\n",
      "uvwxyz\n"
     ]
    }
   ],
   "source": [
    "#open a file\n",
    "file_obj=open('f1.txt','r')\n",
    "#to read a file contents\n",
    "print(file_obj.read())"
   ]
  },
  {
   "cell_type": "code",
   "execution_count": 5,
   "metadata": {},
   "outputs": [
    {
     "name": "stdout",
     "output_type": "stream",
     "text": [
      "abcdefg\n",
      "\n",
      "hijklmn\n",
      "\n",
      "opqrst\n",
      "\n",
      "uvwxyz\n",
      "\n"
     ]
    }
   ],
   "source": [
    "#open a file\n",
    "file_obj=open('f1.txt','r')\n",
    "#to read a file contents\n",
    "print(file_obj.readline())\n",
    "print(file_obj.readline())\n",
    "print(file_obj.readline())\n",
    "print(file_obj.readline())\n",
    "print(file_obj.readline())"
   ]
  },
  {
   "cell_type": "code",
   "execution_count": 7,
   "metadata": {},
   "outputs": [
    {
     "name": "stdout",
     "output_type": "stream",
     "text": [
      "abcdefg\n",
      "\n",
      "hijklmn\n",
      "\n",
      "opqrst\n",
      "\n",
      "uvwxyz\n"
     ]
    }
   ],
   "source": [
    "#open a file\n",
    "file_obj=open('f1.txt','r')\n",
    "#to read a file contents\n",
    "for i in file_obj.readlines():\n",
    "    print(i)\n"
   ]
  },
  {
   "cell_type": "code",
   "execution_count": 8,
   "metadata": {},
   "outputs": [
    {
     "name": "stdout",
     "output_type": "stream",
     "text": [
      "['abcdefg\\n', 'hijklmn\\n', 'opqrst\\n', 'uvwxyz']\n"
     ]
    }
   ],
   "source": [
    "#open a file\n",
    "file_obj=open('f1.txt','r')\n",
    "#to read a file contents\n",
    "print(file_obj.readlines())"
   ]
  },
  {
   "cell_type": "code",
   "execution_count": 13,
   "metadata": {},
   "outputs": [
    {
     "name": "stdout",
     "output_type": "stream",
     "text": [
      "abcde\n",
      "fg\n",
      "hijklmn\n",
      "opqr\n",
      "st\n",
      "uvwxyz\n"
     ]
    }
   ],
   "source": [
    "#open a file\n",
    "file_obj=open('f1.txt','r')\n",
    "print(file_obj.read(5))\n",
    "print(file_obj.read(15))\n",
    "print(file_obj.read())"
   ]
  },
  {
   "cell_type": "code",
   "execution_count": 16,
   "metadata": {},
   "outputs": [
    {
     "name": "stdout",
     "output_type": "stream",
     "text": [
      "abcdefg\n",
      "hijklmn\n",
      "opqrst\n",
      "uvwxyz\n"
     ]
    }
   ],
   "source": [
    "#open a file\n",
    "file_obj=open('f1.txt','r')\n",
    "print(file_obj.read(-100))"
   ]
  },
  {
   "cell_type": "code",
   "execution_count": 17,
   "metadata": {},
   "outputs": [
    {
     "name": "stdout",
     "output_type": "stream",
     "text": [
      "abcdefg\n",
      "hi\n",
      "jklmn\n",
      "opqrst\n",
      "uvwxyz\n"
     ]
    }
   ],
   "source": [
    "#open a file\n",
    "file_obj=open('f1.txt','r')\n",
    "print(file_obj.read(10))\n",
    "print(file_obj.read(-1))"
   ]
  },
  {
   "cell_type": "code",
   "execution_count": 18,
   "metadata": {},
   "outputs": [
    {
     "name": "stdout",
     "output_type": "stream",
     "text": [
      "ab\n"
     ]
    }
   ],
   "source": [
    "#open a file\n",
    "file_obj=open('f1.txt','r')\n",
    "print(file_obj.readline(2))"
   ]
  },
  {
   "cell_type": "code",
   "execution_count": 19,
   "metadata": {},
   "outputs": [],
   "source": [
    "#write contents into a file\n",
    "#open a file\n",
    "file_obj=open('f1.txt','w')\n",
    "file_obj.write('123456789')\n",
    "file_obj.close()"
   ]
  },
  {
   "cell_type": "code",
   "execution_count": 20,
   "metadata": {},
   "outputs": [],
   "source": [
    "#write contents into a file\n",
    "#open a file\n",
    "file_obj=open('f1.txt','a')\n",
    "file_obj.write('\\n987654321')\n",
    "file_obj.close()"
   ]
  },
  {
   "cell_type": "code",
   "execution_count": 24,
   "metadata": {},
   "outputs": [
    {
     "ename": "FileExistsError",
     "evalue": "[Errno 17] File exists: 'f2.txt'",
     "output_type": "error",
     "traceback": [
      "\u001b[1;31m---------------------------------------------------------------------------\u001b[0m",
      "\u001b[1;31mFileExistsError\u001b[0m                           Traceback (most recent call last)",
      "Cell \u001b[1;32mIn[24], line 1\u001b[0m\n\u001b[1;32m----> 1\u001b[0m file_obj\u001b[38;5;241m=\u001b[39m\u001b[38;5;28;43mopen\u001b[39;49m\u001b[43m(\u001b[49m\u001b[38;5;124;43m'\u001b[39;49m\u001b[38;5;124;43mf2.txt\u001b[39;49m\u001b[38;5;124;43m'\u001b[39;49m\u001b[43m,\u001b[49m\u001b[38;5;124;43m'\u001b[39;49m\u001b[38;5;124;43mx\u001b[39;49m\u001b[38;5;124;43m'\u001b[39;49m\u001b[43m)\u001b[49m\n",
      "File \u001b[1;32m~\\AppData\\Roaming\\Python\\Python312\\site-packages\\IPython\\core\\interactiveshell.py:310\u001b[0m, in \u001b[0;36m_modified_open\u001b[1;34m(file, *args, **kwargs)\u001b[0m\n\u001b[0;32m    303\u001b[0m \u001b[38;5;28;01mif\u001b[39;00m file \u001b[38;5;129;01min\u001b[39;00m {\u001b[38;5;241m0\u001b[39m, \u001b[38;5;241m1\u001b[39m, \u001b[38;5;241m2\u001b[39m}:\n\u001b[0;32m    304\u001b[0m     \u001b[38;5;28;01mraise\u001b[39;00m \u001b[38;5;167;01mValueError\u001b[39;00m(\n\u001b[0;32m    305\u001b[0m         \u001b[38;5;124mf\u001b[39m\u001b[38;5;124m\"\u001b[39m\u001b[38;5;124mIPython won\u001b[39m\u001b[38;5;124m'\u001b[39m\u001b[38;5;124mt let you open fd=\u001b[39m\u001b[38;5;132;01m{\u001b[39;00mfile\u001b[38;5;132;01m}\u001b[39;00m\u001b[38;5;124m by default \u001b[39m\u001b[38;5;124m\"\u001b[39m\n\u001b[0;32m    306\u001b[0m         \u001b[38;5;124m\"\u001b[39m\u001b[38;5;124mas it is likely to crash IPython. If you know what you are doing, \u001b[39m\u001b[38;5;124m\"\u001b[39m\n\u001b[0;32m    307\u001b[0m         \u001b[38;5;124m\"\u001b[39m\u001b[38;5;124myou can use builtins\u001b[39m\u001b[38;5;124m'\u001b[39m\u001b[38;5;124m open.\u001b[39m\u001b[38;5;124m\"\u001b[39m\n\u001b[0;32m    308\u001b[0m     )\n\u001b[1;32m--> 310\u001b[0m \u001b[38;5;28;01mreturn\u001b[39;00m \u001b[43mio_open\u001b[49m\u001b[43m(\u001b[49m\u001b[43mfile\u001b[49m\u001b[43m,\u001b[49m\u001b[43m \u001b[49m\u001b[38;5;241;43m*\u001b[39;49m\u001b[43margs\u001b[49m\u001b[43m,\u001b[49m\u001b[43m \u001b[49m\u001b[38;5;241;43m*\u001b[39;49m\u001b[38;5;241;43m*\u001b[39;49m\u001b[43mkwargs\u001b[49m\u001b[43m)\u001b[49m\n",
      "\u001b[1;31mFileExistsError\u001b[0m: [Errno 17] File exists: 'f2.txt'"
     ]
    }
   ],
   "source": [
    "file_obj=open('f2.txt','x')\n"
   ]
  },
  {
   "cell_type": "code",
   "execution_count": 25,
   "metadata": {},
   "outputs": [],
   "source": [
    "import pickle\n",
    "list1=[12,34,56,78]\n",
    "x=open('f2.txt','wb')\n",
    "pickle.dump(list1,x)\n",
    "x.close()"
   ]
  },
  {
   "cell_type": "code",
   "execution_count": 26,
   "metadata": {},
   "outputs": [
    {
     "name": "stdout",
     "output_type": "stream",
     "text": [
      "b'\\x80\\x04\\x95\\r\\x00\\x00\\x00\\x00\\x00\\x00\\x00]\\x94(K\\x0cK\"K8KNe.'\n"
     ]
    }
   ],
   "source": [
    "x=open('f2.txt','rb')\n",
    "print(x.read())"
   ]
  },
  {
   "cell_type": "code",
   "execution_count": 27,
   "metadata": {},
   "outputs": [
    {
     "data": {
      "text/plain": [
       "[12, 34, 56, 78]"
      ]
     },
     "execution_count": 27,
     "metadata": {},
     "output_type": "execute_result"
    }
   ],
   "source": [
    "import pickle\n",
    "x=open('f2.txt','rb')\n",
    "pickle.load(x)"
   ]
  },
  {
   "cell_type": "code",
   "execution_count": 28,
   "metadata": {},
   "outputs": [],
   "source": [
    "import pickle\n",
    "list1=[12,34,56,78]\n",
    "x=open('f2.deepali','wb')\n",
    "pickle.dump(list1,x)\n",
    "x.close()"
   ]
  },
  {
   "cell_type": "code",
   "execution_count": 29,
   "metadata": {},
   "outputs": [
    {
     "data": {
      "text/plain": [
       "[12, 34, 56, 78]"
      ]
     },
     "execution_count": 29,
     "metadata": {},
     "output_type": "execute_result"
    }
   ],
   "source": [
    "import pickle\n",
    "x=open('f2.deepali','rb')\n",
    "pickle.load(x)"
   ]
  },
  {
   "cell_type": "code",
   "execution_count": 35,
   "metadata": {},
   "outputs": [
    {
     "name": "stdout",
     "output_type": "stream",
     "text": [
      "\n",
      "\n",
      "16\n"
     ]
    }
   ],
   "source": [
    "with open('f1.txt','a+') as x:\n",
    "    print(x.read())\n",
    "    x.write('\\n111111')\n",
    "    x.seek(0,2)\n",
    "    print(x.read())\n",
    "    print(x.tell())"
   ]
  },
  {
   "cell_type": "code",
   "execution_count": 40,
   "metadata": {},
   "outputs": [
    {
     "name": "stdout",
     "output_type": "stream",
     "text": [
      "['H', 'D']\n",
      "2\n"
     ]
    }
   ],
   "source": [
    "#regular expression\n",
    "upper_count=[]\n",
    "a='Happy Days'\n",
    "for i in a:\n",
    "    if(i.isupper()):\n",
    "        upper_count.append(i)\n",
    "print(upper_count)\n",
    "print(len(upper_count))"
   ]
  },
  {
   "cell_type": "code",
   "execution_count": 41,
   "metadata": {},
   "outputs": [
    {
     "data": {
      "text/plain": [
       "['H', 'D']"
      ]
     },
     "execution_count": 41,
     "metadata": {},
     "output_type": "execute_result"
    }
   ],
   "source": [
    "import re\n",
    "a='Happy Days'\n",
    "p='[A-Z]'\n",
    "re.findall(p,a)"
   ]
  },
  {
   "cell_type": "code",
   "execution_count": 42,
   "metadata": {},
   "outputs": [
    {
     "data": {
      "text/plain": [
       "['a', 'p', 'p', 'y', 'a', 'y', 's']"
      ]
     },
     "execution_count": 42,
     "metadata": {},
     "output_type": "execute_result"
    }
   ],
   "source": [
    "import re\n",
    "a='Happy Days'\n",
    "p='[a-z]'\n",
    "re.findall(p,a)"
   ]
  },
  {
   "cell_type": "code",
   "execution_count": 1,
   "metadata": {},
   "outputs": [
    {
     "data": {
      "text/plain": [
       "['2', '0', '2', '4']"
      ]
     },
     "execution_count": 1,
     "metadata": {},
     "output_type": "execute_result"
    }
   ],
   "source": [
    "import re\n",
    "a='Happy Days 2024'\n",
    "p='[0-9]'\n",
    "re.findall(p,a)"
   ]
  },
  {
   "cell_type": "code",
   "execution_count": 29,
   "metadata": {},
   "outputs": [
    {
     "data": {
      "text/plain": [
       "[' ', ' ']"
      ]
     },
     "execution_count": 29,
     "metadata": {},
     "output_type": "execute_result"
    }
   ],
   "source": [
    "import re\n",
    "a='****Happy Days 2024****'\n",
    "p=r'\\s'\n",
    "re.findall(p,a)"
   ]
  },
  {
   "cell_type": "code",
   "execution_count": 8,
   "metadata": {},
   "outputs": [
    {
     "name": "stdout",
     "output_type": "stream",
     "text": [
      "['*', '*', '*', '*', 'H', 'a', 'p', 'p', 'y', 'D', 'a', 'y', 's', '2', '0', '2', '4', '*', '*', '*', '*']\n"
     ]
    }
   ],
   "source": [
    "import re\n",
    "a='****Happy Days 2024****'\n",
    "p=r'\\S'\n",
    "print(re.findall(p,a))"
   ]
  },
  {
   "cell_type": "code",
   "execution_count": 9,
   "metadata": {},
   "outputs": [
    {
     "name": "stdout",
     "output_type": "stream",
     "text": [
      "['H', 'a', 'p', 'p', 'y', 'D', 'a', 'y', 's', '2', '0', '2', '4']\n"
     ]
    }
   ],
   "source": [
    "import re\n",
    "a='****Happy Days 2024****'\n",
    "p=r'\\w'\n",
    "print(re.findall(p,a))"
   ]
  },
  {
   "cell_type": "code",
   "execution_count": 11,
   "metadata": {},
   "outputs": [
    {
     "name": "stdout",
     "output_type": "stream",
     "text": [
      "['*', '*', '*', '*', ' ', ' ', '*', '*', '*', '*']\n"
     ]
    }
   ],
   "source": [
    "import re\n",
    "a='****Happy Days 2024****'\n",
    "p=r'\\W'\n",
    "print(re.findall(p,a))"
   ]
  },
  {
   "cell_type": "code",
   "execution_count": 12,
   "metadata": {},
   "outputs": [
    {
     "name": "stdout",
     "output_type": "stream",
     "text": [
      "['2', '0', '2', '4']\n"
     ]
    }
   ],
   "source": [
    "import re\n",
    "a='****Happy Days 2024****'\n",
    "p=r'\\d'\n",
    "print(re.findall(p,a))"
   ]
  },
  {
   "cell_type": "code",
   "execution_count": 13,
   "metadata": {},
   "outputs": [
    {
     "name": "stdout",
     "output_type": "stream",
     "text": [
      "['*', '*', '*', '*', 'H', 'a', 'p', 'p', 'y', ' ', 'D', 'a', 'y', 's', ' ', '*', '*', '*', '*']\n"
     ]
    }
   ],
   "source": [
    "import re\n",
    "a='****Happy Days 2024****'\n",
    "p=r'\\D'\n",
    "print(re.findall(p,a))"
   ]
  },
  {
   "cell_type": "code",
   "execution_count": 17,
   "metadata": {},
   "outputs": [
    {
     "name": "stdout",
     "output_type": "stream",
     "text": [
      "<re.Match object; span=(0, 19), match='1234 4567 7890 1234'>\n",
      "1234 4567 7890 1234\n",
      "1234\n",
      "4567\n",
      "7890\n",
      "1234\n"
     ]
    }
   ],
   "source": [
    "#to check the format string example debit card number\n",
    "debit_card='1234 4567 7890 1234'\n",
    "p=r'(\\d{4}) (\\d{4}) (\\d{4}) (\\d{4})'\n",
    "g1=re.search(p,debit_card)\n",
    "print(g1)\n",
    "print(g1.group())\n",
    "print(g1.group(1))\n",
    "print(g1.group(2))\n",
    "print(g1.group(3))\n",
    "print(g1.group(4))"
   ]
  },
  {
   "cell_type": "code",
   "execution_count": 19,
   "metadata": {},
   "outputs": [
    {
     "data": {
      "text/plain": [
       "<re.Match object; span=(0, 1), match='S'>"
      ]
     },
     "execution_count": 19,
     "metadata": {},
     "output_type": "execute_result"
    }
   ],
   "source": [
    "import re\n",
    "x='Shruti'\n",
    "p='[A-Z]'\n",
    "re.search(p,x)\n"
   ]
  },
  {
   "cell_type": "code",
   "execution_count": 20,
   "metadata": {},
   "outputs": [
    {
     "data": {
      "text/plain": [
       "<re.Match object; span=(1, 2), match='h'>"
      ]
     },
     "execution_count": 20,
     "metadata": {},
     "output_type": "execute_result"
    }
   ],
   "source": [
    "import re\n",
    "x='Shruti'\n",
    "p='[a-z]'\n",
    "re.search(p,x)"
   ]
  },
  {
   "cell_type": "code",
   "execution_count": 21,
   "metadata": {},
   "outputs": [
    {
     "data": {
      "text/plain": [
       "<re.Match object; span=(0, 1), match='S'>"
      ]
     },
     "execution_count": 21,
     "metadata": {},
     "output_type": "execute_result"
    }
   ],
   "source": [
    "import re\n",
    "x='Shruti'\n",
    "p='[A-Z]'\n",
    "re.match(p,x)"
   ]
  },
  {
   "cell_type": "code",
   "execution_count": 24,
   "metadata": {},
   "outputs": [
    {
     "data": {
      "text/plain": [
       "<re.Match object; span=(0, 1), match='s'>"
      ]
     },
     "execution_count": 24,
     "metadata": {},
     "output_type": "execute_result"
    }
   ],
   "source": [
    "import re\n",
    "x='shruti'\n",
    "p='[a-z]'\n",
    "re.match(p,x)"
   ]
  },
  {
   "cell_type": "code",
   "execution_count": 26,
   "metadata": {},
   "outputs": [
    {
     "data": {
      "text/plain": [
       "'***shruti***'"
      ]
     },
     "execution_count": 26,
     "metadata": {},
     "output_type": "execute_result"
    }
   ],
   "source": [
    "import re\n",
    "x=' shruti '\n",
    "p=r'\\s'\n",
    "re.sub(p,'***',x)"
   ]
  },
  {
   "cell_type": "code",
   "execution_count": 27,
   "metadata": {},
   "outputs": [
    {
     "data": {
      "text/plain": [
       "('***shruti***', 2)"
      ]
     },
     "execution_count": 27,
     "metadata": {},
     "output_type": "execute_result"
    }
   ],
   "source": [
    "import re\n",
    "x=' shruti '\n",
    "p=r'\\s'\n",
    "re.subn(p,'***',x)"
   ]
  }
 ],
 "metadata": {
  "kernelspec": {
   "display_name": "Python 3",
   "language": "python",
   "name": "python3"
  },
  "language_info": {
   "codemirror_mode": {
    "name": "ipython",
    "version": 3
   },
   "file_extension": ".py",
   "mimetype": "text/x-python",
   "name": "python",
   "nbconvert_exporter": "python",
   "pygments_lexer": "ipython3",
   "version": "3.12.4"
  }
 },
 "nbformat": 4,
 "nbformat_minor": 2
}
