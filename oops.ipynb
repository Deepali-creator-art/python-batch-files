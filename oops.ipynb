{
 "cells": [
  {
   "cell_type": "code",
   "execution_count": 3,
   "metadata": {},
   "outputs": [
    {
     "name": "stdout",
     "output_type": "stream",
     "text": [
      "Access class members x and y outside a class\n",
      "Value of x is python\n",
      "Value of y is programming\n",
      "This is class method\n",
      "This is second class method\n"
     ]
    }
   ],
   "source": [
    "#class definition\n",
    "class sample:\n",
    "    x='python'      #class member /attributes x and y \n",
    "    y='programming'\n",
    "    def fun1(a):     #class method=>fun1\n",
    "        print(\"This is class method\")\n",
    "    def fun2(b):\n",
    "        print(\"This is second class method\")        \n",
    "s1=sample() #object creation=>object name s1\n",
    "print(\"Access class members x and y outside a class\")\n",
    "print(\"Value of x is\",s1.x)\n",
    "print(\"Value of y is\",s1.y)\n",
    "s1.fun1() #function called \n",
    "s1.fun2() #function called"
   ]
  },
  {
   "cell_type": "code",
   "execution_count": 4,
   "metadata": {},
   "outputs": [
    {
     "name": "stdout",
     "output_type": "stream",
     "text": [
      "Access class members x and y outside a class\n",
      "Value of x is python\n",
      "Value of y is programming\n",
      "This is class method\n",
      "This is second class method\n"
     ]
    }
   ],
   "source": [
    "#class definition\n",
    "class sample:\n",
    "    x='python'      #class member /attributes x and y \n",
    "    y='programming'\n",
    "    def fun1(self):     #class method=>fun1\n",
    "        print(\"This is class method\")\n",
    "    def fun2(self):\n",
    "        print(\"This is second class method\")        \n",
    "s1=sample() #object creation=>object name s1\n",
    "print(\"Access class members x and y outside a class\")\n",
    "print(\"Value of x is\",s1.x)\n",
    "print(\"Value of y is\",s1.y)\n",
    "s1.fun1() #function called \n",
    "s1.fun2() #function called"
   ]
  },
  {
   "cell_type": "code",
   "execution_count": 7,
   "metadata": {},
   "outputs": [
    {
     "name": "stdout",
     "output_type": "stream",
     "text": [
      "Access class members x and y outside a class\n",
      "Value of x is python\n",
      "Value of y is programming\n",
      "This is class method\n",
      "Value of x is python\n",
      "This is second class method\n",
      "Value of y is programming\n"
     ]
    }
   ],
   "source": [
    "class sample:\n",
    "    x='python'      #class member /attributes x and y \n",
    "    y='programming'\n",
    "    def fun1(a):     #class method=>fun1\n",
    "        print(\"This is class method\")\n",
    "        print(\"Value of x is\",a.x)\n",
    "    def fun2(b):\n",
    "        print(\"This is second class method\") \n",
    "        print(\"Value of y is\",b.y)       \n",
    "s1=sample() #object creation=>object name s1\n",
    "print(\"Access class members x and y outside a class\")\n",
    "print(\"Value of x is\",s1.x)\n",
    "print(\"Value of y is\",s1.y)\n",
    "s1.fun1() #function called \n",
    "s1.fun2() #function called"
   ]
  },
  {
   "cell_type": "code",
   "execution_count": 2,
   "metadata": {},
   "outputs": [
    {
     "name": "stdout",
     "output_type": "stream",
     "text": [
      "Company name Accenture\n",
      "Employee name Sonali\n",
      "Employee skill Python\n",
      "Company name Accenture\n",
      "Employee name Hrishita\n",
      "Employee skill Python\n"
     ]
    }
   ],
   "source": [
    "#class definition\n",
    "class employee:\n",
    "    #class member:company_name \n",
    "    company_name='Accenture'\n",
    "    def emp_info(self,emp_name,emp_skill): #function parameter:emp_name,emp_skill\n",
    "        print(\"Company name\",self.company_name)\n",
    "        print(\"Employee name\",emp_name)\n",
    "        print(\"Employee skill\",emp_skill)\n",
    "#object creation\n",
    "e1=employee() #object e1\n",
    "e1.emp_info('Sonali','Python') #method call\n",
    "e1.emp_info('Hrishita','Python')#method call"
   ]
  },
  {
   "cell_type": "code",
   "execution_count": 3,
   "metadata": {},
   "outputs": [
    {
     "name": "stdout",
     "output_type": "stream",
     "text": [
      "Company name Accenture\n",
      "Employee name Priyanka\n",
      "Employee skill Python\n"
     ]
    }
   ],
   "source": [
    "#class definition\n",
    "class employee:\n",
    "    #class member:company_name \n",
    "    company_name='Accenture'\n",
    "    def emp_info(self,emp_name,emp_skill): #function parameter:emp_name,emp_skill\n",
    "        print(\"Company name\",self.company_name)\n",
    "        print(\"Employee name\",emp_name)\n",
    "        print(\"Employee skill\",emp_skill)\n",
    "#object creation\n",
    "e1=employee() #object e1\n",
    "en=input(\"Enter the employee name\")\n",
    "sk=input(\"Enter the skill\")\n",
    "e1.emp_info(en,sk) #method call"
   ]
  },
  {
   "cell_type": "code",
   "execution_count": 4,
   "metadata": {},
   "outputs": [
    {
     "name": "stdout",
     "output_type": "stream",
     "text": [
      "Company name Accenture\n",
      "Employee name Mudit\n",
      "Employee skill Python\n",
      "Company name Accenture\n",
      "Employee name Trupti\n",
      "Employee skill Python\n"
     ]
    }
   ],
   "source": [
    "#class definition\n",
    "class employee:\n",
    "    #class member:company_name \n",
    "    company_name='Accenture'\n",
    "    def emp_info(self,emp_name,emp_skill): #function parameter:emp_name,emp_skill\n",
    "        print(\"Company name\",self.company_name)\n",
    "        print(\"Employee name\",emp_name)\n",
    "        print(\"Employee skill\",emp_skill)\n",
    "#object creation\n",
    "e1=employee() #object e1\n",
    "n=int(input(\"Number of employees\"))\n",
    "for i in range(n): #0,1\n",
    "    en=input(\"Enter the employee name\")\n",
    "    sk=input(\"Enter the skill\")\n",
    "    e1.emp_info(en,sk) #method call"
   ]
  },
  {
   "cell_type": "code",
   "execution_count": 5,
   "metadata": {},
   "outputs": [
    {
     "name": "stdout",
     "output_type": "stream",
     "text": [
      "  Company Name Employee name Employee Skill\n",
      "0    Accenture        Preeti         Python\n",
      "1    Accenture      Abhijeet         Python\n",
      "2    Accenture         Pooja         Python\n"
     ]
    }
   ],
   "source": [
    "#class definition\n",
    "emp_name_list=[]\n",
    "emp_skill_list=[]\n",
    "company_name_list=[]\n",
    "class employee:\n",
    "    #class member:company_name \n",
    "    company_name='Accenture'\n",
    "    def emp_info(self,emp_name,emp_skill): #function parameter:emp_name,emp_skill\n",
    "        company_name_list.append(self.company_name)\n",
    "        emp_name_list.append(emp_name)\n",
    "        emp_skill_list.append(emp_skill)\n",
    "#object creation\n",
    "e1=employee() #object e1\n",
    "n=int(input(\"Number of employees\"))\n",
    "for i in range(n): #0,1\n",
    "    en=input(\"Enter the employee name\")\n",
    "    sk=input(\"Enter the skill\")\n",
    "    e1.emp_info(en,sk) #method call\n",
    "#create a dictionary emp_data\n",
    "emp_data={'Company Name':company_name_list,\n",
    "          'Employee name':emp_name_list,\n",
    "        'Employee Skill':emp_skill_list}\n",
    "#create a dataframe\n",
    "import pandas as pd\n",
    "emp_dataframe=pd.DataFrame(emp_data)\n",
    "print(emp_dataframe)\n",
    "#convert dataframe into excel sheet\n",
    "emp_dataframe.to_excel('Emp_info.xlsx')\n"
   ]
  },
  {
   "cell_type": "code",
   "execution_count": 6,
   "metadata": {},
   "outputs": [
    {
     "name": "stdout",
     "output_type": "stream",
     "text": [
      "Requirement already satisfied: pandas in c:\\users\\lenovo\\appdata\\local\\programs\\python\\python312\\lib\\site-packages (2.2.1)\n",
      "Requirement already satisfied: numpy<2,>=1.26.0 in c:\\users\\lenovo\\appdata\\local\\programs\\python\\python312\\lib\\site-packages (from pandas) (1.26.4)\n",
      "Requirement already satisfied: python-dateutil>=2.8.2 in c:\\users\\lenovo\\appdata\\roaming\\python\\python312\\site-packages (from pandas) (2.8.2)\n",
      "Requirement already satisfied: pytz>=2020.1 in c:\\users\\lenovo\\appdata\\local\\programs\\python\\python312\\lib\\site-packages (from pandas) (2024.1)\n",
      "Requirement already satisfied: tzdata>=2022.7 in c:\\users\\lenovo\\appdata\\local\\programs\\python\\python312\\lib\\site-packages (from pandas) (2024.1)\n",
      "Requirement already satisfied: six>=1.5 in c:\\users\\lenovo\\appdata\\roaming\\python\\python312\\site-packages (from python-dateutil>=2.8.2->pandas) (1.16.0)\n",
      "Note: you may need to restart the kernel to use updated packages.\n"
     ]
    },
    {
     "name": "stderr",
     "output_type": "stream",
     "text": [
      "\n",
      "[notice] A new release of pip is available: 24.0 -> 24.1\n",
      "[notice] To update, run: python.exe -m pip install --upgrade pip\n"
     ]
    }
   ],
   "source": [
    "pip install pandas"
   ]
  },
  {
   "cell_type": "code",
   "execution_count": 7,
   "metadata": {},
   "outputs": [
    {
     "name": "stdout",
     "output_type": "stream",
     "text": [
      "Requirement already satisfied: openpyxl in c:\\users\\lenovo\\appdata\\local\\programs\\python\\python312\\lib\\site-packages (3.1.2)\n",
      "Requirement already satisfied: et-xmlfile in c:\\users\\lenovo\\appdata\\local\\programs\\python\\python312\\lib\\site-packages (from openpyxl) (1.1.0)\n",
      "Note: you may need to restart the kernel to use updated packages.\n"
     ]
    },
    {
     "name": "stderr",
     "output_type": "stream",
     "text": [
      "\n",
      "[notice] A new release of pip is available: 24.0 -> 24.1\n",
      "[notice] To update, run: python.exe -m pip install --upgrade pip\n"
     ]
    }
   ],
   "source": [
    "pip install openpyxl"
   ]
  },
  {
   "cell_type": "code",
   "execution_count": 8,
   "metadata": {},
   "outputs": [
    {
     "name": "stdout",
     "output_type": "stream",
     "text": [
      "This is my constructor\n"
     ]
    }
   ],
   "source": [
    "#constructor without parameter\n",
    "class A:\n",
    "    def __init__(self):\n",
    "        print(\"This is my constructor\")\n",
    "a1=A()   #object creation + method called\n",
    "      "
   ]
  },
  {
   "cell_type": "code",
   "execution_count": 9,
   "metadata": {},
   "outputs": [
    {
     "name": "stdout",
     "output_type": "stream",
     "text": [
      "This is my constructor\n"
     ]
    }
   ],
   "source": [
    "#constructor with parameter\n",
    "class A:\n",
    "    def __init__(self,x):\n",
    "        print(\"This is my constructor\")\n",
    "a1=A(10)   #object creation + method called"
   ]
  },
  {
   "cell_type": "code",
   "execution_count": 11,
   "metadata": {},
   "outputs": [
    {
     "name": "stdout",
     "output_type": "stream",
     "text": [
      "This is my second constructor\n",
      "This is my second constructor\n"
     ]
    }
   ],
   "source": [
    "class B:\n",
    "    def __init__(self):\n",
    "        print(\"This is my first constructor\")\n",
    "    def __init__(self):\n",
    "        print(\"This is my second constructor\")\n",
    "b1=B() #object creation +constructor call\n",
    "b2=B() #object creation +constructor call\n"
   ]
  },
  {
   "cell_type": "code",
   "execution_count": 13,
   "metadata": {},
   "outputs": [
    {
     "name": "stdout",
     "output_type": "stream",
     "text": [
      "This is my second constructor\n",
      "This is my second constructor\n"
     ]
    }
   ],
   "source": [
    "#constructor overloading is not possible in python.\n",
    "class B:\n",
    "    #constructor without parameter\n",
    "    def __init__(self):\n",
    "        print(\"This is my first constructor\")\n",
    "    #constructor with parameter\n",
    "    def __init__(self,x):\n",
    "        print(\"This is my second constructor\")\n",
    "b1=B(200) #object creation +constructor call with parameter\n",
    "b2=B(10) #object creation +constructor call with parameter"
   ]
  }
 ],
 "metadata": {
  "kernelspec": {
   "display_name": "Python 3",
   "language": "python",
   "name": "python3"
  },
  "language_info": {
   "codemirror_mode": {
    "name": "ipython",
    "version": 3
   },
   "file_extension": ".py",
   "mimetype": "text/x-python",
   "name": "python",
   "nbconvert_exporter": "python",
   "pygments_lexer": "ipython3",
   "version": "3.12.2"
  }
 },
 "nbformat": 4,
 "nbformat_minor": 2
}
